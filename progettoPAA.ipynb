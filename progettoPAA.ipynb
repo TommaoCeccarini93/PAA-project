{
 "cells": [
  {
   "cell_type": "markdown",
   "metadata": {},
   "source": [
    "# Progetto PAA a.a 2016/2017"
   ]
  },
  {
   "cell_type": "markdown",
   "metadata": {},
   "source": [
    "Autore:\n",
    "<ul>\n",
    "<li>Tommaso Ceccarini, 6242250 <a href=\"mailto:tommaso.ceccarini1@stud.unifi.it\">tommaso.ceccarini1@stud.unifi.it</a> </li>\n",
    "</ul>"
   ]
  },
  {
   "cell_type": "markdown",
   "metadata": {},
   "source": [
    "<h3>Introduzione</h3>\n",
    "In questo notebook verranno eseguite alcune verifiche numeriche relative alle seguenti identità dimostrate nell'articolo reperibile <a href=\"https://pdfs.semanticscholar.org/1d6b/980a515ac9d444c3fafec5361684082417a4.pdf\">qui</a>.\n",
    "$$\\sum_{k=0}^{n}\\binom{2k}{k}\\binom{2(n-k)}{n-k} = 4^n$$\n",
    "$$\\sum_{k=0}^{n}(-1)^n\\binom{2k}{k}\\binom{2(n-k)}{n-k} = \\begin{cases}\n",
    "    2^n \\binom{n}{\\frac{n}{2}}       & \\quad \\text{se } n \\text{ è pari}\\\\\n",
    "    0  & \\quad \\text{se } n \\text{ è dispari}\\\\\n",
    "  \\end{cases}$$\n",
    "$$\\sum_{\\substack{i_1+i_2+\\dots+i_t=n \\\\ i_1 \\geq 0,i_2 \\geq 0,\\dots,i_t \\geq 0}}^{n}\\binom{2i_1}{i_1}\\binom{2i_2}{i_2} \\dots \\binom{2i_t}{i_t}= \\begin{cases}\n",
    "    4^n \\binom{n+\\frac{t}{2}-1}{n}       & \\quad \\text{se } t \\text{ è pari}\\\\\n",
    "    \\frac{\\binom{2n+t-1}{2n}}{\\binom{n+\\frac{1}{2}(t-1)}{n}}\\binom{2n}{n}  & \\quad \\text{se } t \\text{ è dispari}\\\\\n",
    "  \\end{cases}$$"
   ]
  },
  {
   "cell_type": "markdown",
   "metadata": {},
   "source": [
    "Come prima cosa vengono importate le librerie necessarie e viene abilitata la visualizzazione stile latex"
   ]
  },
  {
   "cell_type": "code",
   "execution_count": 1,
   "metadata": {
    "collapsed": true
   },
   "outputs": [],
   "source": [
    "import itertools\n",
    "import matplotlib.pyplot as plt\n",
    "import numpy as np\n",
    "import sympy\n",
    "from sympy import *\n",
    "from sympy.abc import x, n, z, t, j, k\n",
    "from sympy.combinatorics import *\n",
    "from sympy.utilities.lambdify import lambdify, implemented_function\n",
    "import timeit\n",
    "import math\n",
    "\n",
    "init_printing()"
   ]
  },
  {
   "cell_type": "markdown",
   "metadata": {},
   "source": [
    "<h3>Caso 1</h3>"
   ]
  },
  {
   "cell_type": "code",
   "execution_count": 2,
   "metadata": {
    "collapsed": false
   },
   "outputs": [
    {
     "data": {
      "image/png": "[encoded data removed]",
      "text/latex": [
       "$$T{\\left (n \\right )} = \\sum_{k=0}^{n} {\\binom{2 k}{k}} {\\binom{- 2 k + 2 n}{- k + n}}$$"
      ],
      "text/plain": [
       "         n                     \n",
       "        ____                   \n",
       "        ╲                      \n",
       "         ╲   ⎛2⋅k⎞ ⎛-2⋅k + 2⋅n⎞\n",
       "          ╲  ⎜   ⎟⋅⎜          ⎟\n",
       "T(n) =    ╱  ⎝ k ⎠ ⎝  -k + n  ⎠\n",
       "         ╱                     \n",
       "        ╱                      \n",
       "        ‾‾‾‾                   \n",
       "       k = 0                   "
      ]
     },
     "execution_count": 2,
     "metadata": {},
     "output_type": "execute_result"
    }
   ],
   "source": [
    "T = Function('T')\n",
    "t_expr1 = Sum(binomial(2*k,k)*binomial(2*(n-k),n-k),(k,0,n))\n",
    "t_rec1 = Eq(T(n), t_expr1)\n",
    "Tn1 = Lambda([n],t_expr1)\n",
    "t_rec1"
   ]
  },
  {
   "cell_type": "markdown",
   "metadata": {},
   "source": [
    "i cui primi valori numerici sono "
   ]
  },
  {
   "cell_type": "code",
   "execution_count": 3,
   "metadata": {
    "collapsed": false
   },
   "outputs": [
    {
     "data": {
      "image/png": "[encoded data removed]",
      "text/latex": [
       "$$\\left [ \\left ( 0, \\quad 1\\right ), \\quad \\left ( 1, \\quad 4\\right ), \\quad \\left ( 2, \\quad 16\\right ), \\quad \\left ( 3, \\quad 64\\right ), \\quad \\left ( 4, \\quad 256\\right ), \\quad \\left ( 5, \\quad 1024\\right ), \\quad \\left ( 6, \\quad 4096\\right ), \\quad \\left ( 7, \\quad 16384\\right ), \\quad \\left ( 8, \\quad 65536\\right ), \\quad \\left ( 9, \\quad 262144\\right ), \\quad \\left ( 10, \\quad 1048576\\right )\\right ]$$"
      ],
      "text/plain": [
       "[(0, 1), (1, 4), (2, 16), (3, 64), (4, 256), (5, 1024), (6, 4096), (7, 16384),\n",
       " (8, 65536), (9, 262144), (10, 1048576)]"
      ]
     },
     "execution_count": 3,
     "metadata": {},
     "output_type": "execute_result"
    }
   ],
   "source": [
    "[(n,Tn1(n).doit()) for n in range(0,11)]"
   ]
  },
  {
   "cell_type": "markdown",
   "metadata": {},
   "source": [
    "per dimostrare la prima identità viene definita la funzione ausiliaria $P(n)$."
   ]
  },
  {
   "cell_type": "code",
   "execution_count": 4,
   "metadata": {
    "collapsed": false
   },
   "outputs": [
    {
     "data": {
      "image/png": "[encoded data removed]",
      "text/latex": [
       "$$P{\\left (n \\right )} = \\sum_{k=0}^{n} \\left(- k + n\\right) {\\binom{2 k}{k}} {\\binom{- 2 k + 2 n}{- k + n}}$$"
      ],
      "text/plain": [
       "         n                              \n",
       "        ____                            \n",
       "        ╲                               \n",
       "         ╲            ⎛2⋅k⎞ ⎛-2⋅k + 2⋅n⎞\n",
       "          ╲  (-k + n)⋅⎜   ⎟⋅⎜          ⎟\n",
       "P(n) =    ╱           ⎝ k ⎠ ⎝  -k + n  ⎠\n",
       "         ╱                              \n",
       "        ╱                               \n",
       "        ‾‾‾‾                            \n",
       "       k = 0                            "
      ]
     },
     "execution_count": 4,
     "metadata": {},
     "output_type": "execute_result"
    }
   ],
   "source": [
    "P = Function('P')\n",
    "p_expr1 = Sum((n-k)*binomial(2*k,k)*binomial(2*(n-k),n-k),(k,0,n))\n",
    "p_rec1 = Eq(P(n),p_expr1)\n",
    "Pn1 = Lambda([n], p_expr1)\n",
    "p_rec1"
   ]
  },
  {
   "cell_type": "markdown",
   "metadata": {},
   "source": [
    "Si osservi che vale la seguente relazione "
   ]
  },
  {
   "cell_type": "code",
   "execution_count": 5,
   "metadata": {
    "collapsed": false
   },
   "outputs": [
    {
     "data": {
      "image/png": "[encoded data removed]",
      "text/latex": [
       "$$P{\\left (n \\right )} = \\frac{n}{2} T{\\left (n \\right )}$$"
      ],
      "text/plain": [
       "       n⋅T(n)\n",
       "P(n) = ──────\n",
       "         2   "
      ]
     },
     "execution_count": 5,
     "metadata": {},
     "output_type": "execute_result"
    }
   ],
   "source": [
    "p_rec2 = Eq(P(n),(n*T(n))/2)\n",
    "p_rec2 "
   ]
  },
  {
   "cell_type": "markdown",
   "metadata": {},
   "source": [
    "che si può verificare numericamente"
   ]
  },
  {
   "cell_type": "code",
   "execution_count": 6,
   "metadata": {
    "collapsed": false
   },
   "outputs": [
    {
     "data": {
      "image/png": "[encoded data removed]",
      "text/latex": [
       "$$\\left [ \\left ( 0, \\quad 0\\right ), \\quad \\left ( 1, \\quad 0\\right ), \\quad \\left ( 2, \\quad 0\\right ), \\quad \\left ( 3, \\quad 0\\right ), \\quad \\left ( 4, \\quad 0\\right ), \\quad \\left ( 5, \\quad 0\\right ), \\quad \\left ( 6, \\quad 0\\right ), \\quad \\left ( 7, \\quad 0\\right ), \\quad \\left ( 8, \\quad 0\\right ), \\quad \\left ( 9, \\quad 0\\right ), \\quad \\left ( 10, \\quad 0\\right )\\right ]$$"
      ],
      "text/plain": [
       "[(0, 0), (1, 0), (2, 0), (3, 0), (4, 0), (5, 0), (6, 0), (7, 0), (8, 0), (9, 0\n",
       "), (10, 0)]"
      ]
     },
     "execution_count": 6,
     "metadata": {},
     "output_type": "execute_result"
    }
   ],
   "source": [
    "[(n,Pn1(n).doit() - (n*Tn1(n).doit())/2) for n in range(0,11)]"
   ]
  },
  {
   "cell_type": "markdown",
   "metadata": {},
   "source": [
    "inoltre si hanno i seguenti valori numerici per $P(n)$."
   ]
  },
  {
   "cell_type": "code",
   "execution_count": 7,
   "metadata": {
    "collapsed": false
   },
   "outputs": [
    {
     "data": {
      "image/png": "[encoded data removed]",
      "text/latex": [
       "$$\\left [ \\left ( 0, \\quad 0\\right ), \\quad \\left ( 1, \\quad 2\\right ), \\quad \\left ( 2, \\quad 16\\right ), \\quad \\left ( 3, \\quad 96\\right ), \\quad \\left ( 4, \\quad 512\\right ), \\quad \\left ( 5, \\quad 2560\\right ), \\quad \\left ( 6, \\quad 12288\\right ), \\quad \\left ( 7, \\quad 57344\\right ), \\quad \\left ( 8, \\quad 262144\\right ), \\quad \\left ( 9, \\quad 1179648\\right ), \\quad \\left ( 10, \\quad 5242880\\right )\\right ]$$"
      ],
      "text/plain": [
       "[(0, 0), (1, 2), (2, 16), (3, 96), (4, 512), (5, 2560), (6, 12288), (7, 57344)\n",
       ", (8, 262144), (9, 1179648), (10, 5242880)]"
      ]
     },
     "execution_count": 7,
     "metadata": {},
     "output_type": "execute_result"
    }
   ],
   "source": [
    "[(n,Pn1(n).doit()) for n in range(0,11)]"
   ]
  },
  {
   "cell_type": "markdown",
   "metadata": {},
   "source": [
    "Si noti che per $k=n$ il valore della somma vale $0$ e quindi vale la seguente uguaglianza"
   ]
  },
  {
   "cell_type": "code",
   "execution_count": 8,
   "metadata": {
    "collapsed": false
   },
   "outputs": [
    {
     "data": {
      "image/png": "[encoded data removed]",
      "text/latex": [
       "$$\\sum_{k=0}^{n} \\left(- k + n\\right) {\\binom{2 k}{k}} {\\binom{- 2 k + 2 n}{- k + n}} = 2 \\sum_{k=0}^{n - 1} \\left(- k + n\\right) {\\binom{2 k}{k}} {\\binom{- 2 k + 2 n - 1}{- k + n}}$$"
      ],
      "text/plain": [
       "  n                                   n - 1                                \n",
       " ____                                  ____                                \n",
       " ╲                                     ╲                                   \n",
       "  ╲            ⎛2⋅k⎞ ⎛-2⋅k + 2⋅n⎞       ╲            ⎛2⋅k⎞ ⎛-2⋅k + 2⋅n - 1⎞\n",
       "   ╲  (-k + n)⋅⎜   ⎟⋅⎜          ⎟        ╲  (-k + n)⋅⎜   ⎟⋅⎜              ⎟\n",
       "   ╱           ⎝ k ⎠ ⎝  -k + n  ⎠ = 2⋅   ╱           ⎝ k ⎠ ⎝    -k + n    ⎠\n",
       "  ╱                                     ╱                                  \n",
       " ╱                                     ╱                                   \n",
       " ‾‾‾‾                                  ‾‾‾‾                                \n",
       "k = 0                                 k = 0                                "
      ]
     },
     "execution_count": 8,
     "metadata": {},
     "output_type": "execute_result"
    }
   ],
   "source": [
    "p_expr2 = 2*Sum((n-k)*binomial(2*k,k)*binomial(2*(n-k)-1,n-k),(k,0,n-1))\n",
    "p_rec2 = Eq(p_expr1,p_expr2)\n",
    "Pn2 = Lambda([n],p_expr2)\n",
    "p_rec2"
   ]
  },
  {
   "cell_type": "markdown",
   "metadata": {},
   "source": [
    "verificandola numericamente"
   ]
  },
  {
   "cell_type": "code",
   "execution_count": 9,
   "metadata": {
    "collapsed": false
   },
   "outputs": [
    {
     "data": {
      "image/png": "[encoded data removed]",
      "text/latex": [
       "$$\\left [ \\left ( 0, \\quad 0\\right ), \\quad \\left ( 1, \\quad 0\\right ), \\quad \\left ( 2, \\quad 0\\right ), \\quad \\left ( 3, \\quad 0\\right ), \\quad \\left ( 4, \\quad 0\\right ), \\quad \\left ( 5, \\quad 0\\right ), \\quad \\left ( 6, \\quad 0\\right ), \\quad \\left ( 7, \\quad 0\\right ), \\quad \\left ( 8, \\quad 0\\right ), \\quad \\left ( 9, \\quad 0\\right ), \\quad \\left ( 10, \\quad 0\\right )\\right ]$$"
      ],
      "text/plain": [
       "[(0, 0), (1, 0), (2, 0), (3, 0), (4, 0), (5, 0), (6, 0), (7, 0), (8, 0), (9, 0\n",
       "), (10, 0)]"
      ]
     },
     "execution_count": 9,
     "metadata": {},
     "output_type": "execute_result"
    }
   ],
   "source": [
    "[(n,Pn1(n).doit() - Pn2(n).doit()) for n in range(0,11)]"
   ]
  },
  {
   "cell_type": "markdown",
   "metadata": {},
   "source": [
    "infatti anche in questo caso i primi valori numerici sono."
   ]
  },
  {
   "cell_type": "code",
   "execution_count": 10,
   "metadata": {
    "collapsed": false
   },
   "outputs": [
    {
     "data": {
      "image/png": "[encoded data removed]",
      "text/latex": [
       "$$\\left [ \\left ( 0, \\quad 0\\right ), \\quad \\left ( 1, \\quad 2\\right ), \\quad \\left ( 2, \\quad 16\\right ), \\quad \\left ( 3, \\quad 96\\right ), \\quad \\left ( 4, \\quad 512\\right ), \\quad \\left ( 5, \\quad 2560\\right ), \\quad \\left ( 6, \\quad 12288\\right ), \\quad \\left ( 7, \\quad 57344\\right ), \\quad \\left ( 8, \\quad 262144\\right ), \\quad \\left ( 9, \\quad 1179648\\right ), \\quad \\left ( 10, \\quad 5242880\\right )\\right ]$$"
      ],
      "text/plain": [
       "[(0, 0), (1, 2), (2, 16), (3, 96), (4, 512), (5, 2560), (6, 12288), (7, 57344)\n",
       ", (8, 262144), (9, 1179648), (10, 5242880)]"
      ]
     },
     "execution_count": 10,
     "metadata": {},
     "output_type": "execute_result"
    }
   ],
   "source": [
    "[(n,Pn2(n).doit()) for n in range(0,11)]"
   ]
  },
  {
   "cell_type": "markdown",
   "metadata": {},
   "source": [
    "Il prossimo passo consiste nel portare fuori dal coefficiente binomiale gli ultimi termini"
   ]
  },
  {
   "cell_type": "code",
   "execution_count": 11,
   "metadata": {
    "collapsed": false
   },
   "outputs": [
    {
     "data": {
      "image/png": "[encoded data removed]",
      "text/latex": [
       "$$2 \\sum_{k=0}^{n - 1} \\left(- k + n\\right) {\\binom{2 k}{k}} {\\binom{- 2 k + 2 n - 1}{- k + n}} = 2 \\sum_{k=0}^{n - 1} \\left(- 2 k + 2 n - 1\\right) {\\binom{2 k}{k}} {\\binom{- 2 k + 2 n - 2}{- k + n - 1}}$$"
      ],
      "text/plain": [
       "  n - 1                                     n - 1                             \n",
       "   ____                                      ____                             \n",
       "   ╲                                         ╲                                \n",
       "    ╲            ⎛2⋅k⎞ ⎛-2⋅k + 2⋅n - 1⎞       ╲                    ⎛2⋅k⎞ ⎛-2⋅k\n",
       "     ╲  (-k + n)⋅⎜   ⎟⋅⎜              ⎟        ╲  (-2⋅k + 2⋅n - 1)⋅⎜   ⎟⋅⎜    \n",
       "2⋅   ╱           ⎝ k ⎠ ⎝    -k + n    ⎠ = 2⋅   ╱                   ⎝ k ⎠ ⎝  -k\n",
       "    ╱                                         ╱                               \n",
       "   ╱                                         ╱                                \n",
       "   ‾‾‾‾                                      ‾‾‾‾                             \n",
       "  k = 0                                     k = 0                             \n",
       "\n",
       "           \n",
       "           \n",
       "           \n",
       " + 2⋅n - 2⎞\n",
       "          ⎟\n",
       " + n - 1  ⎠\n",
       "           \n",
       "           \n",
       "           \n",
       "           "
      ]
     },
     "execution_count": 11,
     "metadata": {},
     "output_type": "execute_result"
    }
   ],
   "source": [
    "p_expr3 = 2*Sum((2*(n-k)-1)*binomial(2*k,k)*binomial(2*(n-k-1),n-1-k),(k,0,n-1))\n",
    "p_rec3 = Eq(p_expr2,p_expr3)\n",
    "Pn3 = Lambda([n],p_expr3)\n",
    "p_rec3"
   ]
  },
  {
   "cell_type": "markdown",
   "metadata": {},
   "source": [
    "la verifica numerica rivela che"
   ]
  },
  {
   "cell_type": "code",
   "execution_count": 12,
   "metadata": {
    "collapsed": false
   },
   "outputs": [
    {
     "data": {
      "image/png": "[encoded data removed]",
      "text/latex": [
       "$$\\left [ \\left ( 0, \\quad 0\\right ), \\quad \\left ( 1, \\quad 0\\right ), \\quad \\left ( 2, \\quad 0\\right ), \\quad \\left ( 3, \\quad 0\\right ), \\quad \\left ( 4, \\quad 0\\right ), \\quad \\left ( 5, \\quad 0\\right ), \\quad \\left ( 6, \\quad 0\\right ), \\quad \\left ( 7, \\quad 0\\right ), \\quad \\left ( 8, \\quad 0\\right ), \\quad \\left ( 9, \\quad 0\\right ), \\quad \\left ( 10, \\quad 0\\right )\\right ]$$"
      ],
      "text/plain": [
       "[(0, 0), (1, 0), (2, 0), (3, 0), (4, 0), (5, 0), (6, 0), (7, 0), (8, 0), (9, 0\n",
       "), (10, 0)]"
      ]
     },
     "execution_count": 12,
     "metadata": {},
     "output_type": "execute_result"
    }
   ],
   "source": [
    "[(n,Pn2(n).doit() - Pn3(n).doit()) for n in range(0,11)]"
   ]
  },
  {
   "cell_type": "markdown",
   "metadata": {},
   "source": [
    "inoltre, anche in questo caso"
   ]
  },
  {
   "cell_type": "code",
   "execution_count": 13,
   "metadata": {
    "collapsed": false
   },
   "outputs": [
    {
     "data": {
      "image/png": "[encoded data removed]",
      "text/latex": [
       "$$\\left [ \\left ( 0, \\quad 0\\right ), \\quad \\left ( 1, \\quad 2\\right ), \\quad \\left ( 2, \\quad 16\\right ), \\quad \\left ( 3, \\quad 96\\right ), \\quad \\left ( 4, \\quad 512\\right ), \\quad \\left ( 5, \\quad 2560\\right ), \\quad \\left ( 6, \\quad 12288\\right ), \\quad \\left ( 7, \\quad 57344\\right ), \\quad \\left ( 8, \\quad 262144\\right ), \\quad \\left ( 9, \\quad 1179648\\right ), \\quad \\left ( 10, \\quad 5242880\\right )\\right ]$$"
      ],
      "text/plain": [
       "[(0, 0), (1, 2), (2, 16), (3, 96), (4, 512), (5, 2560), (6, 12288), (7, 57344)\n",
       ", (8, 262144), (9, 1179648), (10, 5242880)]"
      ]
     },
     "execution_count": 13,
     "metadata": {},
     "output_type": "execute_result"
    }
   ],
   "source": [
    "[(n,Pn3(n).doit()) for n in range(0,11)]"
   ]
  },
  {
   "cell_type": "markdown",
   "metadata": {},
   "source": [
    "infatti, svolgendo il prodotto ed eseguendo la somma si ha che "
   ]
  },
  {
   "cell_type": "code",
   "execution_count": 14,
   "metadata": {
    "collapsed": false
   },
   "outputs": [
    {
     "data": {
      "image/png": "[encoded data removed]",
      "text/latex": [
       "$$2 \\sum_{k=0}^{n - 1} \\left(- 2 k + 2 n - 1\\right) {\\binom{2 k}{k}} {\\binom{- 2 k + 2 n - 2}{- k + n - 1}} = 2 \\sum_{k=0}^{n - 1} {\\binom{2 k}{k}} {\\binom{- 2 k + 2 n - 2}{- k + n - 1}} + 4 \\sum_{k=0}^{n - 1} \\left(- k + n - 1\\right) {\\binom{2 k}{k}} {\\binom{- 2 k + 2 n - 2}{- k + n - 1}}$$"
      ],
      "text/plain": [
       "  n - 1                                             n - 1                     \n",
       "   ____                                              ____                     \n",
       "   ╲                                                 ╲                        \n",
       "    ╲                    ⎛2⋅k⎞ ⎛-2⋅k + 2⋅n - 2⎞       ╲   ⎛2⋅k⎞ ⎛-2⋅k + 2⋅n - \n",
       "     ╲  (-2⋅k + 2⋅n - 1)⋅⎜   ⎟⋅⎜              ⎟        ╲  ⎜   ⎟⋅⎜             \n",
       "2⋅   ╱                   ⎝ k ⎠ ⎝  -k + n - 1  ⎠ = 2⋅   ╱  ⎝ k ⎠ ⎝  -k + n - 1 \n",
       "    ╱                                                 ╱                       \n",
       "   ╱                                                 ╱                        \n",
       "   ‾‾‾‾                                              ‾‾‾‾                     \n",
       "  k = 0                                             k = 0                     \n",
       "\n",
       "       n - 1                                    \n",
       "        ____                                    \n",
       "        ╲                                       \n",
       "2⎞       ╲                ⎛2⋅k⎞ ⎛-2⋅k + 2⋅n - 2⎞\n",
       " ⎟        ╲  (-k + n - 1)⋅⎜   ⎟⋅⎜              ⎟\n",
       " ⎠ + 4⋅   ╱               ⎝ k ⎠ ⎝  -k + n - 1  ⎠\n",
       "         ╱                                      \n",
       "        ╱                                       \n",
       "        ‾‾‾‾                                    \n",
       "       k = 0                                    "
      ]
     },
     "execution_count": 14,
     "metadata": {},
     "output_type": "execute_result"
    }
   ],
   "source": [
    "p_expr4 = 4*Sum((n-1-k)*binomial(2*k,k)*binomial(2*(n-1-k),n-1-k),(k,0,n-1))+2*Sum(binomial(2*k,k)*binomial(2*(n-1-k),n-1-k),(k,0,n-1))\n",
    "p_rec4 = Eq(p_expr3,p_expr4)\n",
    "Pn4 = Lambda([n],p_expr4)\n",
    "p_rec4"
   ]
  },
  {
   "cell_type": "markdown",
   "metadata": {},
   "source": [
    "eseguendo la verifica numerica"
   ]
  },
  {
   "cell_type": "code",
   "execution_count": 15,
   "metadata": {
    "collapsed": false
   },
   "outputs": [
    {
     "data": {
      "image/png": "[encoded data removed]",
      "text/latex": [
       "$$\\left [ \\left ( 0, \\quad 0\\right ), \\quad \\left ( 1, \\quad 0\\right ), \\quad \\left ( 2, \\quad 0\\right ), \\quad \\left ( 3, \\quad 0\\right ), \\quad \\left ( 4, \\quad 0\\right ), \\quad \\left ( 5, \\quad 0\\right ), \\quad \\left ( 6, \\quad 0\\right ), \\quad \\left ( 7, \\quad 0\\right ), \\quad \\left ( 8, \\quad 0\\right ), \\quad \\left ( 9, \\quad 0\\right ), \\quad \\left ( 10, \\quad 0\\right )\\right ]$$"
      ],
      "text/plain": [
       "[(0, 0), (1, 0), (2, 0), (3, 0), (4, 0), (5, 0), (6, 0), (7, 0), (8, 0), (9, 0\n",
       "), (10, 0)]"
      ]
     },
     "execution_count": 15,
     "metadata": {},
     "output_type": "execute_result"
    }
   ],
   "source": [
    "[(n,Pn3(n).doit() - Pn4(n).doit()) for n in range(0,11)]"
   ]
  },
  {
   "cell_type": "markdown",
   "metadata": {},
   "source": [
    "e si ha"
   ]
  },
  {
   "cell_type": "code",
   "execution_count": 16,
   "metadata": {
    "collapsed": false
   },
   "outputs": [
    {
     "data": {
      "image/png": "[encoded data removed]",
      "text/latex": [
       "$$\\left [ \\left ( 0, \\quad 0\\right ), \\quad \\left ( 1, \\quad 2\\right ), \\quad \\left ( 2, \\quad 16\\right ), \\quad \\left ( 3, \\quad 96\\right ), \\quad \\left ( 4, \\quad 512\\right ), \\quad \\left ( 5, \\quad 2560\\right ), \\quad \\left ( 6, \\quad 12288\\right ), \\quad \\left ( 7, \\quad 57344\\right ), \\quad \\left ( 8, \\quad 262144\\right ), \\quad \\left ( 9, \\quad 1179648\\right ), \\quad \\left ( 10, \\quad 5242880\\right )\\right ]$$"
      ],
      "text/plain": [
       "[(0, 0), (1, 2), (2, 16), (3, 96), (4, 512), (5, 2560), (6, 12288), (7, 57344)\n",
       ", (8, 262144), (9, 1179648), (10, 5242880)]"
      ]
     },
     "execution_count": 16,
     "metadata": {},
     "output_type": "execute_result"
    }
   ],
   "source": [
    "[(n,Pn4(n).doit()) for n in range(0,11)]"
   ]
  },
  {
   "cell_type": "markdown",
   "metadata": {},
   "source": [
    "quindi valgono le seguenti relazioni"
   ]
  },
  {
   "cell_type": "code",
   "execution_count": 17,
   "metadata": {
    "collapsed": false
   },
   "outputs": [
    {
     "data": {
      "image/png": "[encoded data removed]",
      "text/latex": [
       "$$P{\\left (n \\right )} = 4 P{\\left (n - 1 \\right )} + 2 T{\\left (n - 1 \\right )}$$"
      ],
      "text/plain": [
       "P(n) = 4⋅P(n - 1) + 2⋅T(n - 1)"
      ]
     },
     "execution_count": 17,
     "metadata": {},
     "output_type": "execute_result"
    }
   ],
   "source": [
    "p_rec5 = Eq(P(n),4*P(n-1)+2*T(n-1))\n",
    "p_rec5"
   ]
  },
  {
   "cell_type": "code",
   "execution_count": 18,
   "metadata": {
    "collapsed": false
   },
   "outputs": [
    {
     "data": {
      "image/png": "[encoded data removed]",
      "text/latex": [
       "$$\\frac{n}{2} T{\\left (n \\right )} = \\frac{1}{2} \\left(4 n - 4\\right) T{\\left (n - 1 \\right )} + 2 T{\\left (n - 1 \\right )}$$"
      ],
      "text/plain": [
       "n⋅T(n)   (4⋅n - 4)⋅T(n - 1)             \n",
       "────── = ────────────────── + 2⋅T(n - 1)\n",
       "  2              2                      "
      ]
     },
     "execution_count": 18,
     "metadata": {},
     "output_type": "execute_result"
    }
   ],
   "source": [
    "t_rec2 = Eq((n/2)*T(n),(4*(n-1)*T(n-1))/2+2*T(n-1))\n",
    "t_rec2"
   ]
  },
  {
   "cell_type": "code",
   "execution_count": 19,
   "metadata": {
    "collapsed": false
   },
   "outputs": [
    {
     "data": {
      "image/png": "[encoded data removed]",
      "text/latex": [
       "$$\\frac{1}{2} \\left(4 n - 4\\right) T{\\left (n - 1 \\right )} + 2 T{\\left (n - 1 \\right )} = 2 n T{\\left (n - 1 \\right )}$$"
      ],
      "text/plain": [
       "(4⋅n - 4)⋅T(n - 1)                            \n",
       "────────────────── + 2⋅T(n - 1) = 2⋅n⋅T(n - 1)\n",
       "        2                                     "
      ]
     },
     "execution_count": 19,
     "metadata": {},
     "output_type": "execute_result"
    }
   ],
   "source": [
    "t_rec2 = Eq((4*(n-1)*T(n-1))/2+2*T(n-1),2*n*T(n-1))\n",
    "t_rec2"
   ]
  },
  {
   "cell_type": "code",
   "execution_count": 20,
   "metadata": {
    "collapsed": false
   },
   "outputs": [
    {
     "data": {
      "image/png": "[encoded data removed]",
      "text/latex": [
       "$$\\left ( T{\\left (n \\right )} = 4 T{\\left (n - 1 \\right )}, \\quad T{\\left (0 \\right )} = 1\\right )$$"
      ],
      "text/plain": [
       "(T(n) = 4⋅T(n - 1), T(0) = 1)"
      ]
     },
     "execution_count": 20,
     "metadata": {},
     "output_type": "execute_result"
    }
   ],
   "source": [
    "t_rec3 = Eq(T(n),4*T(n-1))\n",
    "t_rec3,Eq(T(0),1)"
   ]
  },
  {
   "cell_type": "markdown",
   "metadata": {},
   "source": [
    "tenendo presente che $T(0)=1$ si può concludere"
   ]
  },
  {
   "cell_type": "code",
   "execution_count": 21,
   "metadata": {
    "collapsed": false
   },
   "outputs": [
    {
     "data": {
      "image/png": "[encoded data removed]",
      "text/latex": [
       "$$T{\\left (n \\right )} = 4^{n}$$"
      ],
      "text/plain": [
       "        n\n",
       "T(n) = 4 "
      ]
     },
     "execution_count": 21,
     "metadata": {},
     "output_type": "execute_result"
    }
   ],
   "source": [
    "t_rec4 = Eq(T(n),4**n)\n",
    "Tn4 = Lambda([n],4**n)\n",
    "t_rec4"
   ]
  },
  {
   "cell_type": "markdown",
   "metadata": {},
   "source": [
    "la verifica numerica conferma quanto scritto"
   ]
  },
  {
   "cell_type": "code",
   "execution_count": 22,
   "metadata": {
    "collapsed": false
   },
   "outputs": [
    {
     "data": {
      "image/png": "[encoded data removed]",
      "text/latex": [
       "$$\\left [ \\left ( 0, \\quad 0\\right ), \\quad \\left ( 1, \\quad 0\\right ), \\quad \\left ( 2, \\quad 0\\right ), \\quad \\left ( 3, \\quad 0\\right ), \\quad \\left ( 4, \\quad 0\\right ), \\quad \\left ( 5, \\quad 0\\right ), \\quad \\left ( 6, \\quad 0\\right ), \\quad \\left ( 7, \\quad 0\\right ), \\quad \\left ( 8, \\quad 0\\right ), \\quad \\left ( 9, \\quad 0\\right ), \\quad \\left ( 10, \\quad 0\\right )\\right ]$$"
      ],
      "text/plain": [
       "[(0, 0), (1, 0), (2, 0), (3, 0), (4, 0), (5, 0), (6, 0), (7, 0), (8, 0), (9, 0\n",
       "), (10, 0)]"
      ]
     },
     "execution_count": 22,
     "metadata": {},
     "output_type": "execute_result"
    }
   ],
   "source": [
    "[(n,Tn1(n).doit() - Tn4(n).doit()) for n in range(0,11)]"
   ]
  },
  {
   "cell_type": "markdown",
   "metadata": {},
   "source": [
    "e infatti si ha che "
   ]
  },
  {
   "cell_type": "code",
   "execution_count": 23,
   "metadata": {
    "collapsed": false
   },
   "outputs": [
    {
     "data": {
      "image/png": "[encoded data removed]",
      "text/latex": [
       "$$\\left [ \\left ( 0, \\quad 1\\right ), \\quad \\left ( 1, \\quad 4\\right ), \\quad \\left ( 2, \\quad 16\\right ), \\quad \\left ( 3, \\quad 64\\right ), \\quad \\left ( 4, \\quad 256\\right ), \\quad \\left ( 5, \\quad 1024\\right ), \\quad \\left ( 6, \\quad 4096\\right ), \\quad \\left ( 7, \\quad 16384\\right ), \\quad \\left ( 8, \\quad 65536\\right ), \\quad \\left ( 9, \\quad 262144\\right ), \\quad \\left ( 10, \\quad 1048576\\right )\\right ]$$"
      ],
      "text/plain": [
       "[(0, 1), (1, 4), (2, 16), (3, 64), (4, 256), (5, 1024), (6, 4096), (7, 16384),\n",
       " (8, 65536), (9, 262144), (10, 1048576)]"
      ]
     },
     "execution_count": 23,
     "metadata": {},
     "output_type": "execute_result"
    }
   ],
   "source": [
    "[(n,Tn4(n).doit()) for n in range(0,11)]"
   ]
  },
  {
   "cell_type": "markdown",
   "metadata": {},
   "source": [
    "<h3>Caso 2</h3>"
   ]
  },
  {
   "cell_type": "code",
   "execution_count": 24,
   "metadata": {
    "collapsed": false
   },
   "outputs": [
    {
     "data": {
      "image/png": "[encoded data removed]",
      "text/latex": [
       "$$Q{\\left (n \\right )} = \\sum_{k=0}^{n} \\left(-1\\right)^{k} {\\binom{2 k}{k}} {\\binom{- 2 k + 2 n}{- k + n}}$$"
      ],
      "text/plain": [
       "         n                           \n",
       "        ____                         \n",
       "        ╲                            \n",
       "         ╲       k ⎛2⋅k⎞ ⎛-2⋅k + 2⋅n⎞\n",
       "          ╲  (-1) ⋅⎜   ⎟⋅⎜          ⎟\n",
       "Q(n) =    ╱        ⎝ k ⎠ ⎝  -k + n  ⎠\n",
       "         ╱                           \n",
       "        ╱                            \n",
       "        ‾‾‾‾                         \n",
       "       k = 0                         "
      ]
     },
     "execution_count": 24,
     "metadata": {},
     "output_type": "execute_result"
    }
   ],
   "source": [
    "Q = Function('Q')\n",
    "q_expr1 = Sum((-1)**k*binomial(2*k,k)*binomial(2*(n-k),n-k),(k,0,n))\n",
    "q_rec1 = Eq(Q(n), q_expr1)\n",
    "Qn1 = Lambda([n],q_expr1)\n",
    "q_rec1"
   ]
  },
  {
   "cell_type": "markdown",
   "metadata": {},
   "source": [
    "i cui primi valori numerici sono "
   ]
  },
  {
   "cell_type": "code",
   "execution_count": 25,
   "metadata": {
    "collapsed": false
   },
   "outputs": [
    {
     "data": {
      "image/png": "[encoded data removed]",
      "text/latex": [
       "$$\\left [ \\left ( 0, \\quad 1\\right ), \\quad \\left ( 1, \\quad 0\\right ), \\quad \\left ( 2, \\quad 8\\right ), \\quad \\left ( 3, \\quad 0\\right ), \\quad \\left ( 4, \\quad 96\\right ), \\quad \\left ( 5, \\quad 0\\right ), \\quad \\left ( 6, \\quad 1280\\right ), \\quad \\left ( 7, \\quad 0\\right ), \\quad \\left ( 8, \\quad 17920\\right ), \\quad \\left ( 9, \\quad 0\\right ), \\quad \\left ( 10, \\quad 258048\\right )\\right ]$$"
      ],
      "text/plain": [
       "[(0, 1), (1, 0), (2, 8), (3, 0), (4, 96), (5, 0), (6, 1280), (7, 0), (8, 17920\n",
       "), (9, 0), (10, 258048)]"
      ]
     },
     "execution_count": 25,
     "metadata": {},
     "output_type": "execute_result"
    }
   ],
   "source": [
    "[(n,Qn1(n).doit()) for n in range(0,11)]"
   ]
  },
  {
   "cell_type": "markdown",
   "metadata": {},
   "source": [
    "si può verificare numericamente che $Q(2n+1)=0$, infatti:"
   ]
  },
  {
   "cell_type": "code",
   "execution_count": 26,
   "metadata": {
    "collapsed": false
   },
   "outputs": [
    {
     "data": {
      "image/png": "[encoded data removed]",
      "text/latex": [
       "$$\\left [ \\left ( 1, \\quad 0\\right ), \\quad \\left ( 3, \\quad 0\\right ), \\quad \\left ( 5, \\quad 0\\right ), \\quad \\left ( 7, \\quad 0\\right ), \\quad \\left ( 9, \\quad 0\\right ), \\quad \\left ( 11, \\quad 0\\right ), \\quad \\left ( 13, \\quad 0\\right ), \\quad \\left ( 15, \\quad 0\\right ), \\quad \\left ( 17, \\quad 0\\right ), \\quad \\left ( 19, \\quad 0\\right ), \\quad \\left ( 21, \\quad 0\\right )\\right ]$$"
      ],
      "text/plain": [
       "[(1, 0), (3, 0), (5, 0), (7, 0), (9, 0), (11, 0), (13, 0), (15, 0), (17, 0), (\n",
       "19, 0), (21, 0)]"
      ]
     },
     "execution_count": 26,
     "metadata": {},
     "output_type": "execute_result"
    }
   ],
   "source": [
    "[(2*n+1,Qn1(2*n+1).doit()) for n in range(0,11)]"
   ]
  },
  {
   "cell_type": "markdown",
   "metadata": {},
   "source": [
    "si consideri la seguente funzione ausiliaria $H(n)$:"
   ]
  },
  {
   "cell_type": "code",
   "execution_count": 27,
   "metadata": {
    "collapsed": false
   },
   "outputs": [
    {
     "data": {
      "image/png": "[encoded data removed]",
      "text/latex": [
       "$$H{\\left (n \\right )} = \\sum_{k=0}^{n} \\left(-1\\right)^{k} \\left(- k + n\\right) {\\binom{2 k}{k}} {\\binom{- 2 k + 2 n}{- k + n}}$$"
      ],
      "text/plain": [
       "         n                                    \n",
       "        ____                                  \n",
       "        ╲                                     \n",
       "         ╲       k          ⎛2⋅k⎞ ⎛-2⋅k + 2⋅n⎞\n",
       "          ╲  (-1) ⋅(-k + n)⋅⎜   ⎟⋅⎜          ⎟\n",
       "H(n) =    ╱                 ⎝ k ⎠ ⎝  -k + n  ⎠\n",
       "         ╱                                    \n",
       "        ╱                                     \n",
       "        ‾‾‾‾                                  \n",
       "       k = 0                                  "
      ]
     },
     "execution_count": 27,
     "metadata": {},
     "output_type": "execute_result"
    }
   ],
   "source": [
    "H = Function('H')\n",
    "h_expr1 = Sum((-1)**k*(n-k)*binomial(2*k,k)*binomial(2*(n-k),n-k),(k,0,n))\n",
    "h_rec1 = Eq(H(n), h_expr1)\n",
    "Hn1 = Lambda([n],h_expr1)\n",
    "h_rec1"
   ]
  },
  {
   "cell_type": "markdown",
   "metadata": {},
   "source": [
    "che ha come primi risultati"
   ]
  },
  {
   "cell_type": "code",
   "execution_count": 28,
   "metadata": {
    "collapsed": false
   },
   "outputs": [
    {
     "data": {
      "image/png": "[encoded data removed]",
      "text/latex": [
       "$$\\left [ \\left ( 0, \\quad 0\\right ), \\quad \\left ( 1, \\quad 2\\right ), \\quad \\left ( 2, \\quad 8\\right ), \\quad \\left ( 3, \\quad 48\\right ), \\quad \\left ( 4, \\quad 192\\right ), \\quad \\left ( 5, \\quad 960\\right ), \\quad \\left ( 6, \\quad 3840\\right ), \\quad \\left ( 7, \\quad 17920\\right ), \\quad \\left ( 8, \\quad 71680\\right ), \\quad \\left ( 9, \\quad 322560\\right ), \\quad \\left ( 10, \\quad 1290240\\right )\\right ]$$"
      ],
      "text/plain": [
       "[(0, 0), (1, 2), (2, 8), (3, 48), (4, 192), (5, 960), (6, 3840), (7, 17920), (\n",
       "8, 71680), (9, 322560), (10, 1290240)]"
      ]
     },
     "execution_count": 28,
     "metadata": {},
     "output_type": "execute_result"
    }
   ],
   "source": [
    "[(n,Hn1(n).doit()) for n in range(0,11)]"
   ]
  },
  {
   "cell_type": "markdown",
   "metadata": {},
   "source": [
    "allora si ha che $H(2n)=nQ(2n)$. Verificandolo numericamente:"
   ]
  },
  {
   "cell_type": "code",
   "execution_count": 29,
   "metadata": {
    "collapsed": false
   },
   "outputs": [
    {
     "data": {
      "image/png": "[encoded data removed]",
      "text/latex": [
       "$$\\left [ \\left ( 0, \\quad 0\\right ), \\quad \\left ( 2, \\quad 0\\right ), \\quad \\left ( 4, \\quad 0\\right ), \\quad \\left ( 6, \\quad 0\\right ), \\quad \\left ( 8, \\quad 0\\right ), \\quad \\left ( 10, \\quad 0\\right ), \\quad \\left ( 12, \\quad 0\\right ), \\quad \\left ( 14, \\quad 0\\right ), \\quad \\left ( 16, \\quad 0\\right ), \\quad \\left ( 18, \\quad 0\\right ), \\quad \\left ( 20, \\quad 0\\right )\\right ]$$"
      ],
      "text/plain": [
       "[(0, 0), (2, 0), (4, 0), (6, 0), (8, 0), (10, 0), (12, 0), (14, 0), (16, 0), (\n",
       "18, 0), (20, 0)]"
      ]
     },
     "execution_count": 29,
     "metadata": {},
     "output_type": "execute_result"
    }
   ],
   "source": [
    "[(2*n, n*Qn1(2*n).doit() - Hn1(2*n).doit()) for n in range(0,11)]"
   ]
  },
  {
   "cell_type": "markdown",
   "metadata": {},
   "source": [
    "Infatti i valori numerici per $H(2n)$ e $nQ(2n)$ risultano rispettivamente"
   ]
  },
  {
   "cell_type": "code",
   "execution_count": 30,
   "metadata": {
    "collapsed": false
   },
   "outputs": [
    {
     "data": {
      "image/png": "[encoded data removed]",
      "text/latex": [
       "$$\\left [ \\left ( 0, \\quad 0\\right ), \\quad \\left ( 2, \\quad 8\\right ), \\quad \\left ( 4, \\quad 192\\right ), \\quad \\left ( 6, \\quad 3840\\right ), \\quad \\left ( 8, \\quad 71680\\right ), \\quad \\left ( 10, \\quad 1290240\\right ), \\quad \\left ( 12, \\quad 22708224\\right ), \\quad \\left ( 14, \\quad 393609216\\right ), \\quad \\left ( 16, \\quad 6747586560\\right ), \\quad \\left ( 18, \\quad 114708971520\\right ), \\quad \\left ( 20, \\quad 1937307074560\\right )\\right ]$$"
      ],
      "text/plain": [
       "[(0, 0), (2, 8), (4, 192), (6, 3840), (8, 71680), (10, 1290240), (12, 22708224\n",
       "), (14, 393609216), (16, 6747586560), (18, 114708971520), (20, 1937307074560)]"
      ]
     },
     "execution_count": 30,
     "metadata": {},
     "output_type": "execute_result"
    }
   ],
   "source": [
    "[(2*n, n*Qn1(2*n).doit()) for n in range(0,11)]"
   ]
  },
  {
   "cell_type": "markdown",
   "metadata": {},
   "source": [
    "e"
   ]
  },
  {
   "cell_type": "code",
   "execution_count": 31,
   "metadata": {
    "collapsed": false
   },
   "outputs": [
    {
     "data": {
      "image/png": "[encoded data removed]",
      "text/latex": [
       "$$\\left [ \\left ( 0, \\quad 0\\right ), \\quad \\left ( 2, \\quad 8\\right ), \\quad \\left ( 4, \\quad 192\\right ), \\quad \\left ( 6, \\quad 3840\\right ), \\quad \\left ( 8, \\quad 71680\\right ), \\quad \\left ( 10, \\quad 1290240\\right ), \\quad \\left ( 12, \\quad 22708224\\right ), \\quad \\left ( 14, \\quad 393609216\\right ), \\quad \\left ( 16, \\quad 6747586560\\right ), \\quad \\left ( 18, \\quad 114708971520\\right ), \\quad \\left ( 20, \\quad 1937307074560\\right )\\right ]$$"
      ],
      "text/plain": [
       "[(0, 0), (2, 8), (4, 192), (6, 3840), (8, 71680), (10, 1290240), (12, 22708224\n",
       "), (14, 393609216), (16, 6747586560), (18, 114708971520), (20, 1937307074560)]"
      ]
     },
     "execution_count": 31,
     "metadata": {},
     "output_type": "execute_result"
    }
   ],
   "source": [
    "[(2*n, Hn1(2*n).doit()) for n in range(0,11)]"
   ]
  },
  {
   "cell_type": "markdown",
   "metadata": {},
   "source": [
    "seguendo l'approccio utilizzato nel caso precedente si ha che "
   ]
  },
  {
   "cell_type": "code",
   "execution_count": 32,
   "metadata": {
    "collapsed": false
   },
   "outputs": [
    {
     "data": {
      "image/png": "[encoded data removed]",
      "text/latex": [
       "$$H{\\left (n \\right )} = 4 H{\\left (n - 1 \\right )} + 2 Q{\\left (n - 1 \\right )}$$"
      ],
      "text/plain": [
       "H(n) = 4⋅H(n - 1) + 2⋅Q(n - 1)"
      ]
     },
     "execution_count": 32,
     "metadata": {},
     "output_type": "execute_result"
    }
   ],
   "source": [
    "h_rec2 = Eq(H(n),4*H(n-1)+2*Q(n-1))\n",
    "h_rec2"
   ]
  },
  {
   "cell_type": "markdown",
   "metadata": {},
   "source": [
    "infatti"
   ]
  },
  {
   "cell_type": "code",
   "execution_count": 33,
   "metadata": {
    "collapsed": false
   },
   "outputs": [
    {
     "data": {
      "image/png": "[encoded data removed]",
      "text/latex": [
       "$$\\left [ \\left ( 0, \\quad 0\\right ), \\quad \\left ( 1, \\quad 0\\right ), \\quad \\left ( 2, \\quad 0\\right ), \\quad \\left ( 3, \\quad 0\\right ), \\quad \\left ( 4, \\quad 0\\right ), \\quad \\left ( 5, \\quad 0\\right ), \\quad \\left ( 6, \\quad 0\\right ), \\quad \\left ( 7, \\quad 0\\right ), \\quad \\left ( 8, \\quad 0\\right ), \\quad \\left ( 9, \\quad 0\\right ), \\quad \\left ( 10, \\quad 0\\right )\\right ]$$"
      ],
      "text/plain": [
       "[(0, 0), (1, 0), (2, 0), (3, 0), (4, 0), (5, 0), (6, 0), (7, 0), (8, 0), (9, 0\n",
       "), (10, 0)]"
      ]
     },
     "execution_count": 33,
     "metadata": {},
     "output_type": "execute_result"
    }
   ],
   "source": [
    "[(n, Hn1(n).doit() - 4*Hn1(n-1).doit()-2*Qn1(n-1).doit()) for n in range(0,11)]"
   ]
  },
  {
   "cell_type": "markdown",
   "metadata": {},
   "source": [
    "e i valori numerici di $4H(n-1)+2Q(n-1)$ sono "
   ]
  },
  {
   "cell_type": "code",
   "execution_count": 34,
   "metadata": {
    "collapsed": false
   },
   "outputs": [
    {
     "data": {
      "image/png": "[encoded data removed]",
      "text/latex": [
       "$$\\left [ \\left ( 0, \\quad 0\\right ), \\quad \\left ( 1, \\quad 2\\right ), \\quad \\left ( 2, \\quad 8\\right ), \\quad \\left ( 3, \\quad 48\\right ), \\quad \\left ( 4, \\quad 192\\right ), \\quad \\left ( 5, \\quad 960\\right ), \\quad \\left ( 6, \\quad 3840\\right ), \\quad \\left ( 7, \\quad 17920\\right ), \\quad \\left ( 8, \\quad 71680\\right ), \\quad \\left ( 9, \\quad 322560\\right ), \\quad \\left ( 10, \\quad 1290240\\right )\\right ]$$"
      ],
      "text/plain": [
       "[(0, 0), (1, 2), (2, 8), (3, 48), (4, 192), (5, 960), (6, 3840), (7, 17920), (\n",
       "8, 71680), (9, 322560), (10, 1290240)]"
      ]
     },
     "execution_count": 34,
     "metadata": {},
     "output_type": "execute_result"
    }
   ],
   "source": [
    "[(n, 4*Hn1(n-1).doit()+2*Qn1(n-1).doit()) for n in range(0,11)]"
   ]
  },
  {
   "cell_type": "markdown",
   "metadata": {},
   "source": [
    "quindi, riscrivendo la relazione precedente per $2n$ e $2n-1$si ha che "
   ]
  },
  {
   "cell_type": "code",
   "execution_count": 35,
   "metadata": {
    "collapsed": false
   },
   "outputs": [
    {
     "data": {
      "image/png": "[encoded data removed]",
      "text/latex": [
       "$$H{\\left (2 n \\right )} = 4 H{\\left (2 n - 1 \\right )} + 2 Q{\\left (2 n - 1 \\right )} = 4 H{\\left (2 n - 1 \\right )}$$"
      ],
      "text/plain": [
       "H(2⋅n) = 4⋅H(2⋅n - 1) + 2⋅Q(2⋅n - 1) = 4⋅H(2⋅n - 1)"
      ]
     },
     "execution_count": 35,
     "metadata": {},
     "output_type": "execute_result"
    }
   ],
   "source": [
    "h_rec3 = Eq(H(2*n),4*H(2*n-1)+2*Q(2*n-1))\n",
    "h_rec4 = Eq(h_rec3,4*H(2*n-1))\n",
    "h_rec4"
   ]
  },
  {
   "cell_type": "code",
   "execution_count": 36,
   "metadata": {
    "collapsed": false
   },
   "outputs": [
    {
     "data": {
      "image/png": "[encoded data removed]",
      "text/latex": [
       "$$H{\\left (2 n - 1 \\right )} = 4 H{\\left (2 n - 2 \\right )} + 2 Q{\\left (2 n - 2 \\right )}$$"
      ],
      "text/plain": [
       "H(2⋅n - 1) = 4⋅H(2⋅n - 2) + 2⋅Q(2⋅n - 2)"
      ]
     },
     "execution_count": 36,
     "metadata": {},
     "output_type": "execute_result"
    }
   ],
   "source": [
    "h_rec5 = Eq(H(2*n-1),4*H(2*n-2)+2*Q(2*n-2))\n",
    "h_rec5"
   ]
  },
  {
   "cell_type": "markdown",
   "metadata": {},
   "source": [
    "e quindi "
   ]
  },
  {
   "cell_type": "code",
   "execution_count": 37,
   "metadata": {
    "collapsed": false
   },
   "outputs": [
    {
     "data": {
      "image/png": "[encoded data removed]",
      "text/latex": [
       "$$H{\\left (2 n \\right )} = 16 H{\\left (2 n - 2 \\right )} + 8 Q{\\left (2 n - 2 \\right )}$$"
      ],
      "text/plain": [
       "H(2⋅n) = 16⋅H(2⋅n - 2) + 8⋅Q(2⋅n - 2)"
      ]
     },
     "execution_count": 37,
     "metadata": {},
     "output_type": "execute_result"
    }
   ],
   "source": [
    "h_rec6 = Eq(H(2*n),16*H(2*n-2)+8*Q(2*n-2))\n",
    "h_rec6"
   ]
  },
  {
   "cell_type": "markdown",
   "metadata": {},
   "source": [
    "e tenendo conto che $H(2n)=nQ(2n)$"
   ]
  },
  {
   "cell_type": "code",
   "execution_count": 38,
   "metadata": {
    "collapsed": false
   },
   "outputs": [
    {
     "data": {
      "image/png": "[encoded data removed]",
      "text/latex": [
       "$$n Q{\\left (2 n \\right )} = \\left(16 n - 16\\right) Q{\\left (2 n - 2 \\right )} + 8 Q{\\left (2 n - 2 \\right )} = \\left(16 n - 8\\right) Q{\\left (2 n - 2 \\right )}$$"
      ],
      "text/plain": [
       "n⋅Q(2⋅n) = (16⋅n - 16)⋅Q(2⋅n - 2) + 8⋅Q(2⋅n - 2) = (16⋅n - 8)⋅Q(2⋅n - 2)"
      ]
     },
     "execution_count": 38,
     "metadata": {},
     "output_type": "execute_result"
    }
   ],
   "source": [
    "q_rec2 = Eq(n*Q(2*n),16*(n-1)*Q(2*n-2)+8*Q(2*n-2))\n",
    "q_rec3 = Eq(q_rec2,8*(2*n-1)*Q(2*n-2))\n",
    "q_rec3"
   ]
  },
  {
   "cell_type": "markdown",
   "metadata": {},
   "source": [
    "da cui "
   ]
  },
  {
   "cell_type": "code",
   "execution_count": 39,
   "metadata": {
    "collapsed": false
   },
   "outputs": [
    {
     "data": {
      "image/png": "[encoded data removed]",
      "text/latex": [
       "$$Q{\\left (2 n \\right )} = \\frac{1}{n} \\left(16 n - 8\\right) Q{\\left (2 n - 2 \\right )}$$"
      ],
      "text/plain": [
       "         (16⋅n - 8)⋅Q(2⋅n - 2)\n",
       "Q(2⋅n) = ─────────────────────\n",
       "                   n          "
      ]
     },
     "execution_count": 39,
     "metadata": {},
     "output_type": "execute_result"
    }
   ],
   "source": [
    "q_rec4 = Eq(Q(2*n),(8*(2*n-1)*Q(2*n-2))/n)\n",
    "q_rec4"
   ]
  },
  {
   "cell_type": "markdown",
   "metadata": {},
   "source": [
    "prima di scrivere $Q(2n)$ in forma esplicita è possibile verificare numericamente la precedente relazione"
   ]
  },
  {
   "cell_type": "code",
   "execution_count": 40,
   "metadata": {
    "collapsed": false
   },
   "outputs": [
    {
     "data": {
      "image/png": "[encoded data removed]",
      "text/latex": [
       "$$\\left [ \\left ( 2, \\quad 0\\right ), \\quad \\left ( 4, \\quad 0\\right ), \\quad \\left ( 6, \\quad 0\\right ), \\quad \\left ( 8, \\quad 0\\right ), \\quad \\left ( 10, \\quad 0\\right ), \\quad \\left ( 12, \\quad 0\\right ), \\quad \\left ( 14, \\quad 0\\right ), \\quad \\left ( 16, \\quad 0\\right ), \\quad \\left ( 18, \\quad 0\\right ), \\quad \\left ( 20, \\quad 0\\right )\\right ]$$"
      ],
      "text/plain": [
       "[(2, 0), (4, 0), (6, 0), (8, 0), (10, 0), (12, 0), (14, 0), (16, 0), (18, 0), \n",
       "(20, 0)]"
      ]
     },
     "execution_count": 40,
     "metadata": {},
     "output_type": "execute_result"
    }
   ],
   "source": [
    "[(2*n, Qn1(2*n).doit() - math.ceil((1/n)*(16*n-8)*Qn1(2*n-2).doit())) for n in range(1,11)]"
   ]
  },
  {
   "cell_type": "code",
   "execution_count": 41,
   "metadata": {
    "collapsed": false
   },
   "outputs": [
    {
     "data": {
      "image/png": "[encoded data removed]",
      "text/latex": [
       "$$\\left [ \\left ( 2, \\quad 8\\right ), \\quad \\left ( 4, \\quad 96\\right ), \\quad \\left ( 6, \\quad 1280\\right ), \\quad \\left ( 8, \\quad 17920\\right ), \\quad \\left ( 10, \\quad 258048\\right ), \\quad \\left ( 12, \\quad 3784704\\right ), \\quad \\left ( 14, \\quad 56229888\\right ), \\quad \\left ( 16, \\quad 843448320\\right ), \\quad \\left ( 18, \\quad 12745441280\\right ), \\quad \\left ( 20, \\quad 193730707456\\right )\\right ]$$"
      ],
      "text/plain": [
       "[(2, 8), (4, 96), (6, 1280), (8, 17920), (10, 258048), (12, 3784704), (14, 562\n",
       "29888), (16, 843448320), (18, 12745441280), (20, 193730707456)]"
      ]
     },
     "execution_count": 41,
     "metadata": {},
     "output_type": "execute_result"
    }
   ],
   "source": [
    "[(2*n, math.ceil((1/n)*(16*n-8)*Qn1(2*n-2).doit())) for n in range(1,11)]"
   ]
  },
  {
   "cell_type": "markdown",
   "metadata": {},
   "source": [
    "nelle ultime due verifiche numeriche effettuate è stato necessario utilizzare la funzione $\\texttt{math.ceil}$ per restituire la parte intera calcolata dall'espressione, in quanto la divisione $\\frac{1}{n}$ restituire come risultato un numero decimale."
   ]
  },
  {
   "cell_type": "markdown",
   "metadata": {},
   "source": [
    "Quindi, considerando che $Q(0)=1$, si ha "
   ]
  },
  {
   "cell_type": "code",
   "execution_count": 42,
   "metadata": {
    "collapsed": false
   },
   "outputs": [
    {
     "data": {
      "image/png": "[encoded data removed]",
      "text/latex": [
       "$$Q{\\left (2 n \\right )} = \\frac{8^{n}}{n!} \\left(2 n - 1\\right)!!$$"
      ],
      "text/plain": [
       "          n            \n",
       "         8 ⋅(2⋅n - 1)!!\n",
       "Q(2⋅n) = ──────────────\n",
       "               n!      "
      ]
     },
     "execution_count": 42,
     "metadata": {},
     "output_type": "execute_result"
    }
   ],
   "source": [
    "q_expr2 = ((8**n)*factorial2(2*n-1))/factorial(n)\n",
    "q_rec5 = Eq(Q(2*n), q_expr2)\n",
    "Qn2 = Lambda([n],q_expr2)\n",
    "q_rec5"
   ]
  },
  {
   "cell_type": "markdown",
   "metadata": {},
   "source": [
    "confrontando numericamente questa espressione per $Q(2n)$ con quella di partenza si ha"
   ]
  },
  {
   "cell_type": "code",
   "execution_count": 43,
   "metadata": {
    "collapsed": false
   },
   "outputs": [
    {
     "data": {
      "image/png": "[encoded data removed]",
      "text/latex": [
       "$$\\left [ \\left ( 2, \\quad 0\\right ), \\quad \\left ( 4, \\quad 0\\right ), \\quad \\left ( 6, \\quad 0\\right ), \\quad \\left ( 8, \\quad 0\\right ), \\quad \\left ( 10, \\quad 0\\right ), \\quad \\left ( 12, \\quad 0\\right ), \\quad \\left ( 14, \\quad 0\\right ), \\quad \\left ( 16, \\quad 0\\right ), \\quad \\left ( 18, \\quad 0\\right ), \\quad \\left ( 20, \\quad 0\\right )\\right ]$$"
      ],
      "text/plain": [
       "[(2, 0), (4, 0), (6, 0), (8, 0), (10, 0), (12, 0), (14, 0), (16, 0), (18, 0), \n",
       "(20, 0)]"
      ]
     },
     "execution_count": 43,
     "metadata": {},
     "output_type": "execute_result"
    }
   ],
   "source": [
    "[(2*n, Qn1(2*n).doit() - Qn2(n).doit()) for n in range(1,11)]"
   ]
  },
  {
   "cell_type": "markdown",
   "metadata": {},
   "source": [
    "infatti i primi valori numerici per $\\frac{8^n}{n!}(2n-1)!!$ risultano essere "
   ]
  },
  {
   "cell_type": "code",
   "execution_count": 44,
   "metadata": {
    "collapsed": false
   },
   "outputs": [
    {
     "data": {
      "image/png": "[encoded data removed]",
      "text/latex": [
       "$$\\left [ \\left ( 2, \\quad 8\\right ), \\quad \\left ( 4, \\quad 96\\right ), \\quad \\left ( 6, \\quad 1280\\right ), \\quad \\left ( 8, \\quad 17920\\right ), \\quad \\left ( 10, \\quad 258048\\right ), \\quad \\left ( 12, \\quad 3784704\\right ), \\quad \\left ( 14, \\quad 56229888\\right ), \\quad \\left ( 16, \\quad 843448320\\right ), \\quad \\left ( 18, \\quad 12745441280\\right ), \\quad \\left ( 20, \\quad 193730707456\\right )\\right ]$$"
      ],
      "text/plain": [
       "[(2, 8), (4, 96), (6, 1280), (8, 17920), (10, 258048), (12, 3784704), (14, 562\n",
       "29888), (16, 843448320), (18, 12745441280), (20, 193730707456)]"
      ]
     },
     "execution_count": 44,
     "metadata": {},
     "output_type": "execute_result"
    }
   ],
   "source": [
    "[(2*n, Qn2(n).doit()) for n in range(1,11)]"
   ]
  },
  {
   "cell_type": "markdown",
   "metadata": {},
   "source": [
    "poiché $\\frac{8^n}{n!}(2n-1)=\\frac{8^n}{n!}(2n-1)(\\frac{2^n n!}{2^n n!})=\\frac{4^n(2n-1)!!(2n)!!}{(n!)^2} = \\frac{4^nn!}{(n!)^2}=4^n\\binom{2n}{n}$"
   ]
  },
  {
   "cell_type": "code",
   "execution_count": 45,
   "metadata": {
    "collapsed": false
   },
   "outputs": [
    {
     "data": {
      "image/png": "[encoded data removed]",
      "text/latex": [
       "$$Q{\\left (2 n \\right )} = 4^{n} {\\binom{2 n}{n}}$$"
      ],
      "text/plain": [
       "          n ⎛2⋅n⎞\n",
       "Q(2⋅n) = 4 ⋅⎜   ⎟\n",
       "            ⎝ n ⎠"
      ]
     },
     "execution_count": 45,
     "metadata": {},
     "output_type": "execute_result"
    }
   ],
   "source": [
    "q_expr3 = (4**n)*binomial(2*n,n)\n",
    "q_rec6 = Eq(Q(2*n), q_expr3)\n",
    "Qn3 = Lambda([n],q_expr3)\n",
    "q_rec6"
   ]
  },
  {
   "cell_type": "markdown",
   "metadata": {},
   "source": [
    "eseguendo una nuova verifica numerica si ha che"
   ]
  },
  {
   "cell_type": "code",
   "execution_count": 46,
   "metadata": {
    "collapsed": false
   },
   "outputs": [
    {
     "data": {
      "image/png": "[encoded data removed]",
      "text/latex": [
       "$$\\left [ \\left ( 2, \\quad 0\\right ), \\quad \\left ( 4, \\quad 0\\right ), \\quad \\left ( 6, \\quad 0\\right ), \\quad \\left ( 8, \\quad 0\\right ), \\quad \\left ( 10, \\quad 0\\right ), \\quad \\left ( 12, \\quad 0\\right ), \\quad \\left ( 14, \\quad 0\\right ), \\quad \\left ( 16, \\quad 0\\right ), \\quad \\left ( 18, \\quad 0\\right ), \\quad \\left ( 20, \\quad 0\\right )\\right ]$$"
      ],
      "text/plain": [
       "[(2, 0), (4, 0), (6, 0), (8, 0), (10, 0), (12, 0), (14, 0), (16, 0), (18, 0), \n",
       "(20, 0)]"
      ]
     },
     "execution_count": 46,
     "metadata": {},
     "output_type": "execute_result"
    }
   ],
   "source": [
    "[(2*n, Qn1(2*n).doit() - Qn3(n).doit()) for n in range(1,11)]"
   ]
  },
  {
   "cell_type": "markdown",
   "metadata": {},
   "source": [
    "e i valori numerici per $4^n\\binom{2n}{n}$ sono"
   ]
  },
  {
   "cell_type": "code",
   "execution_count": 47,
   "metadata": {
    "collapsed": false
   },
   "outputs": [
    {
     "data": {
      "image/png": "[encoded data removed]",
      "text/latex": [
       "$$\\left [ \\left ( 2, \\quad 8\\right ), \\quad \\left ( 4, \\quad 96\\right ), \\quad \\left ( 6, \\quad 1280\\right ), \\quad \\left ( 8, \\quad 17920\\right ), \\quad \\left ( 10, \\quad 258048\\right ), \\quad \\left ( 12, \\quad 3784704\\right ), \\quad \\left ( 14, \\quad 56229888\\right ), \\quad \\left ( 16, \\quad 843448320\\right ), \\quad \\left ( 18, \\quad 12745441280\\right ), \\quad \\left ( 20, \\quad 193730707456\\right )\\right ]$$"
      ],
      "text/plain": [
       "[(2, 8), (4, 96), (6, 1280), (8, 17920), (10, 258048), (12, 3784704), (14, 562\n",
       "29888), (16, 843448320), (18, 12745441280), (20, 193730707456)]"
      ]
     },
     "execution_count": 47,
     "metadata": {},
     "output_type": "execute_result"
    }
   ],
   "source": [
    "[(2*n, Qn3(n).doit()) for n in range(1,11)]"
   ]
  },
  {
   "cell_type": "markdown",
   "metadata": {},
   "source": [
    "<h3>Caso 3</h3>"
   ]
  },
  {
   "cell_type": "markdown",
   "metadata": {},
   "source": [
    "sia $$S(n,t)=\\sum_{\\substack{i_1+i_2+\\dots+i_t=n \\\\ i_1 \\geq 0,i_2 \\geq 0,\\dots,i_t \\geq 0}}^{n}\\binom{2i_1}{i_1}\\binom{2i_2}{i_2} \\dots \\binom{2i_t}{i_t}$$ "
   ]
  },
  {
   "cell_type": "markdown",
   "metadata": {},
   "source": [
    "per calcolare $S(n,t)$ è necessario prima definire un metodo che, passanti in input $n$ e $t$ restituisca gli insiemi di indici necessari a calcolare il valore di tale funzione. Quindi se ad esempio si ha che $n=3$ e $t=3$, alcune delle combinazioni di indici, con cui calcolare il valore della somma sono $(0,0,3)$,$(0,3,0)$,$(2,1,0)$,$(1,2,0)$ e $(0,1,2)$. Si noti che tali combinazioni non sono esclusivamente le composizioni di $n$ di lunghezza $\\leq t$. Infatti, ad esempio si ha che $(1,2,0)$ e $(0,1,2)$ rappresentano diversi elementi della lista, mentre, un metodo che genera le composizioni non farebbe questa distinzione. Quindi, la seguente funzione serve per definire tale insieme di elementi."
   ]
  },
  {
   "cell_type": "code",
   "execution_count": 48,
   "metadata": {
    "collapsed": true
   },
   "outputs": [],
   "source": [
    "import itertools\n",
    "\n",
    "def compositions(n, k):\n",
    "    for c in itertools.combinations(range(n+k-1), k-1):\n",
    "        yield [b-a-1 for a, b in zip((-1,)+c, c+(n+k-1,))]"
   ]
  },
  {
   "cell_type": "markdown",
   "metadata": {},
   "source": [
    "Più precisamente, questo metodo definisce un generatore in cui ogni elemento è una lista di $t$ elementi che rappresenta una delle possibili combinazioni di indici $i_1,i_2,\\dots,i_t$ su cui itera la sommatoria che definisce $S(n,t)$. Questa procedura verrà utilizzata all'interno del seguente metodo per calcolare il valore numerico di $S(n,t)$. Infatti, considerando $n=3$ e $t=3$ vengono generati i seguenti elementi"
   ]
  },
  {
   "cell_type": "code",
   "execution_count": 49,
   "metadata": {
    "collapsed": false
   },
   "outputs": [
    {
     "name": "stdout",
     "output_type": "stream",
     "text": [
      "[0, 0, 3]\n",
      "[0, 1, 2]\n",
      "[0, 2, 1]\n",
      "[0, 3, 0]\n",
      "[1, 0, 2]\n",
      "[1, 1, 1]\n",
      "[1, 2, 0]\n",
      "[2, 0, 1]\n",
      "[2, 1, 0]\n",
      "[3, 0, 0]\n"
     ]
    }
   ],
   "source": [
    "for c in compositions(3,3):\n",
    "    print(c)"
   ]
  },
  {
   "cell_type": "markdown",
   "metadata": {},
   "source": [
    "la funzione che calcola $S(n,t)$ è quindi quella definita di seguito"
   ]
  },
  {
   "cell_type": "code",
   "execution_count": 50,
   "metadata": {
    "collapsed": true
   },
   "outputs": [],
   "source": [
    "def computeS(n,t):\n",
    "    S = 0\n",
    "    comp = compositions(n,t)\n",
    "    for c in comp:\n",
    "        binomials = [((factorial(2*c[i]))/((factorial(c[i]))*(factorial(c[i])))) for i in range(0,len(c))]\n",
    "        product = np.prod(binomials)\n",
    "        S = S + product\n",
    "    return S\n",
    "        "
   ]
  },
  {
   "cell_type": "markdown",
   "metadata": {},
   "source": [
    "a questo punto è possibile utilizzare il metodo sviluppato in python per effettuare le valutazioni numeriche con sympy definendo una funzione lambda"
   ]
  },
  {
   "cell_type": "code",
   "execution_count": 51,
   "metadata": {
    "collapsed": false
   },
   "outputs": [],
   "source": [
    "S = implemented_function(Function('S'), computeS)\n",
    "Sn1 = lambdify((n,t),S(n,t))"
   ]
  },
  {
   "cell_type": "code",
   "execution_count": 52,
   "metadata": {
    "collapsed": false
   },
   "outputs": [
    {
     "data": {
      "image/png": "[encoded data removed]",
      "text/latex": [
       "$$\\left[\\begin{matrix}2 & 4 & 6 & 8 & 10 & 12\\\\6 & 16 & 30 & 48 & 70 & 96\\\\20 & 64 & 140 & 256 & 420 & 640\\\\70 & 256 & 630 & 1280 & 2310 & 3840\\\\252 & 1024 & 2772 & 6144 & 12012 & 21504\\\\924 & 4096 & 12012 & 28672 & 60060 & 114688\\end{matrix}\\right]$$"
      ],
      "text/plain": [
       "⎡ 2    4      6      8     10      12  ⎤\n",
       "⎢                                      ⎥\n",
       "⎢ 6    16    30     48     70      96  ⎥\n",
       "⎢                                      ⎥\n",
       "⎢20    64    140    256    420    640  ⎥\n",
       "⎢                                      ⎥\n",
       "⎢70   256    630   1280   2310    3840 ⎥\n",
       "⎢                                      ⎥\n",
       "⎢252  1024  2772   6144   12012  21504 ⎥\n",
       "⎢                                      ⎥\n",
       "⎣924  4096  12012  28672  60060  114688⎦"
      ]
     },
     "execution_count": 52,
     "metadata": {},
     "output_type": "execute_result"
    }
   ],
   "source": [
    "matrix = eye(6)\n",
    "for i in range(1,7): \n",
    "    for j in range(1,7):\n",
    "        matrix[i-1,j-1] = Sn1(i,j)\n",
    "matrix"
   ]
  },
  {
   "cell_type": "markdown",
   "metadata": {},
   "source": [
    "in cui $t$ aumenta per indici crescenti delle colonne e $n$ aumenta per indici crescenti delle righe"
   ]
  },
  {
   "cell_type": "markdown",
   "metadata": {},
   "source": [
    "seguendo l'approccio utilizzato nei due casi precedenti viene definita una funzione ausiliaria, chiamata $P(n,t)$\n",
    "$$P(n,t) = \\sum_{\\substack{i_1+i_2+\\dots+i_t=n \\\\ i_1 \\geq 0,i_2 \\geq 0,\\dots,i_t \\geq 0}}^{n}i_1\\binom{2i_1}{i_1}\\binom{2i_2}{i_2} \\dots \\binom{2i_t}{i_t}$$"
   ]
  },
  {
   "cell_type": "markdown",
   "metadata": {},
   "source": [
    "che è definibile equivalentemente come \n",
    "$$P(n,t) = \\sum_{\\substack{i_1+i_2+\\dots+i_t=n \\\\ i_1 \\geq 0,i_2 \\geq 0,\\dots,i_t \\geq 0}}^{n}i_k\\binom{2i_1}{i_1}\\binom{2i_2}{i_2} \\dots \\binom{2i_t}{i_t}$$\n",
    "con $k \\in \\{1,2,\\dots,t\\}.$\n"
   ]
  },
  {
   "cell_type": "markdown",
   "metadata": {},
   "source": [
    "Per poter calcolare il valore di $P(n,t)$ viene utilizzato un approccio analogo \n",
    "a quello utilizzato per $S(n,t)$ definendo il metodo apposito"
   ]
  },
  {
   "cell_type": "code",
   "execution_count": 53,
   "metadata": {
    "collapsed": true
   },
   "outputs": [],
   "source": [
    "def computeP(n,t):\n",
    "    S = 0\n",
    "    comp = compositions(n,t)\n",
    "    for c in comp:\n",
    "        binomials = [((factorial(2*c[i]))/((factorial(c[i]))*(factorial(c[i])))) for i in range(0,len(c))]\n",
    "        product = np.prod(binomials)*c[0]\n",
    "        S = S + product\n",
    "    return S"
   ]
  },
  {
   "cell_type": "code",
   "execution_count": 54,
   "metadata": {
    "collapsed": false
   },
   "outputs": [],
   "source": [
    "P = implemented_function(Function('S'), computeP)\n",
    "Pn1 = lambdify((n,t),P(n,t))"
   ]
  },
  {
   "cell_type": "markdown",
   "metadata": {},
   "source": [
    "e i valori numerici di $P(n,t)$ sono "
   ]
  },
  {
   "cell_type": "code",
   "execution_count": 55,
   "metadata": {
    "collapsed": false
   },
   "outputs": [
    {
     "data": {
      "image/png": "[encoded data removed]",
      "text/latex": [
       "$$\\left[\\begin{matrix}2 & 2 & 2 & 2 & 2 & 2\\\\12 & 16 & 20 & 24 & 28 & 32\\\\60 & 96 & 140 & 192 & 252 & 320\\\\280 & 512 & 840 & 1280 & 1848 & 2560\\\\1260 & 2560 & 4620 & 7680 & 12012 & 17920\\\\5544 & 12288 & 24024 & 43008 & 72072 & 114688\\end{matrix}\\right]$$"
      ],
      "text/plain": [
       "⎡ 2      2      2      2      2      2   ⎤\n",
       "⎢                                        ⎥\n",
       "⎢ 12    16     20     24     28      32  ⎥\n",
       "⎢                                        ⎥\n",
       "⎢ 60    96     140    192    252    320  ⎥\n",
       "⎢                                        ⎥\n",
       "⎢280    512    840   1280   1848    2560 ⎥\n",
       "⎢                                        ⎥\n",
       "⎢1260  2560   4620   7680   12012  17920 ⎥\n",
       "⎢                                        ⎥\n",
       "⎣5544  12288  24024  43008  72072  114688⎦"
      ]
     },
     "execution_count": 55,
     "metadata": {},
     "output_type": "execute_result"
    }
   ],
   "source": [
    "matrix = eye(6)\n",
    "for i in range(1,7): \n",
    "    for j in range(1,7):\n",
    "        matrix[i-1,j-1] = Pn1(i,j)\n",
    "matrix"
   ]
  },
  {
   "cell_type": "markdown",
   "metadata": {},
   "source": [
    "quindi vale $P(n,t) = \\frac{nS(n,t)}{t}$"
   ]
  },
  {
   "cell_type": "markdown",
   "metadata": {},
   "source": [
    "che si può verificare numericamente "
   ]
  },
  {
   "cell_type": "code",
   "execution_count": 56,
   "metadata": {
    "collapsed": false
   },
   "outputs": [
    {
     "data": {
      "image/png": "[encoded data removed]",
      "text/latex": [
       "$$\\left[\\begin{matrix}0 & 0 & 0 & 0 & 0 & 0\\\\0 & 0 & 0 & 0 & 0 & 0\\\\0 & 0 & 0 & 0 & 0 & 0\\\\0 & 0 & 0 & 0 & 0 & 0\\\\0 & 0 & 0 & 0 & 0 & 0\\\\0 & 0 & 0 & 0 & 0 & 0\\end{matrix}\\right]$$"
      ],
      "text/plain": [
       "⎡0  0  0  0  0  0⎤\n",
       "⎢                ⎥\n",
       "⎢0  0  0  0  0  0⎥\n",
       "⎢                ⎥\n",
       "⎢0  0  0  0  0  0⎥\n",
       "⎢                ⎥\n",
       "⎢0  0  0  0  0  0⎥\n",
       "⎢                ⎥\n",
       "⎢0  0  0  0  0  0⎥\n",
       "⎢                ⎥\n",
       "⎣0  0  0  0  0  0⎦"
      ]
     },
     "execution_count": 56,
     "metadata": {},
     "output_type": "execute_result"
    }
   ],
   "source": [
    "matrix = eye(6)\n",
    "for i in range(1,7): \n",
    "    for j in range(1,7):\n",
    "        matrix[i-1,j-1] = ((i*Sn1(i,j))/j)-Pn1(i,j)\n",
    "matrix"
   ]
  },
  {
   "cell_type": "markdown",
   "metadata": {},
   "source": [
    "infatti"
   ]
  },
  {
   "cell_type": "code",
   "execution_count": 57,
   "metadata": {
    "collapsed": false
   },
   "outputs": [
    {
     "data": {
      "image/png": "[encoded data removed]",
      "text/latex": [
       "$$\\left[\\begin{matrix}2 & 2 & 2 & 2 & 2 & 2\\\\12 & 16 & 20 & 24 & 28 & 32\\\\60 & 96 & 140 & 192 & 252 & 320\\\\280 & 512 & 840 & 1280 & 1848 & 2560\\\\1260 & 2560 & 4620 & 7680 & 12012 & 17920\\\\5544 & 12288 & 24024 & 43008 & 72072 & 114688\\end{matrix}\\right]$$"
      ],
      "text/plain": [
       "⎡ 2      2      2      2      2      2   ⎤\n",
       "⎢                                        ⎥\n",
       "⎢ 12    16     20     24     28      32  ⎥\n",
       "⎢                                        ⎥\n",
       "⎢ 60    96     140    192    252    320  ⎥\n",
       "⎢                                        ⎥\n",
       "⎢280    512    840   1280   1848    2560 ⎥\n",
       "⎢                                        ⎥\n",
       "⎢1260  2560   4620   7680   12012  17920 ⎥\n",
       "⎢                                        ⎥\n",
       "⎣5544  12288  24024  43008  72072  114688⎦"
      ]
     },
     "execution_count": 57,
     "metadata": {},
     "output_type": "execute_result"
    }
   ],
   "source": [
    "matrix = eye(6)\n",
    "for i in range(1,7): \n",
    "    for j in range(1,7):\n",
    "        matrix[i-1,j-1] = ((i*Sn1(i,j))/j)\n",
    "matrix"
   ]
  },
  {
   "cell_type": "markdown",
   "metadata": {},
   "source": [
    "inoltre si può verificare numericamente che $P(n,t)=4P(n-1,t)+2S(n-1,t)$ "
   ]
  },
  {
   "cell_type": "code",
   "execution_count": 58,
   "metadata": {
    "collapsed": false
   },
   "outputs": [
    {
     "data": {
      "image/png": "[encoded data removed]",
      "text/latex": [
       "$$\\left[\\begin{matrix}0 & 0 & 0 & 0 & 0 & 0\\\\0 & 0 & 0 & 0 & 0 & 0\\\\0 & 0 & 0 & 0 & 0 & 0\\\\0 & 0 & 0 & 0 & 0 & 0\\\\0 & 0 & 0 & 0 & 0 & 0\\\\0 & 0 & 0 & 0 & 0 & 0\\end{matrix}\\right]$$"
      ],
      "text/plain": [
       "⎡0  0  0  0  0  0⎤\n",
       "⎢                ⎥\n",
       "⎢0  0  0  0  0  0⎥\n",
       "⎢                ⎥\n",
       "⎢0  0  0  0  0  0⎥\n",
       "⎢                ⎥\n",
       "⎢0  0  0  0  0  0⎥\n",
       "⎢                ⎥\n",
       "⎢0  0  0  0  0  0⎥\n",
       "⎢                ⎥\n",
       "⎣0  0  0  0  0  0⎦"
      ]
     },
     "execution_count": 58,
     "metadata": {},
     "output_type": "execute_result"
    }
   ],
   "source": [
    "matrix = eye(6)\n",
    "for i in range(1,7): \n",
    "    for j in range(1,7):\n",
    "        matrix[i-1,j-1] = Pn1(i,j) - 4*Pn1(i-1,j) - 2*Sn1(i-1,j)\n",
    "matrix"
   ]
  },
  {
   "cell_type": "markdown",
   "metadata": {},
   "source": [
    "e si ha che i valori numerici per $4P(n-1,t)+2S(n-1,t)$ sono"
   ]
  },
  {
   "cell_type": "code",
   "execution_count": 59,
   "metadata": {
    "collapsed": false
   },
   "outputs": [
    {
     "data": {
      "image/png": "[encoded data removed]",
      "text/latex": [
       "$$\\left[\\begin{matrix}2 & 2 & 2 & 2 & 2 & 2\\\\12 & 16 & 20 & 24 & 28 & 32\\\\60 & 96 & 140 & 192 & 252 & 320\\\\280 & 512 & 840 & 1280 & 1848 & 2560\\\\1260 & 2560 & 4620 & 7680 & 12012 & 17920\\\\5544 & 12288 & 24024 & 43008 & 72072 & 114688\\end{matrix}\\right]$$"
      ],
      "text/plain": [
       "⎡ 2      2      2      2      2      2   ⎤\n",
       "⎢                                        ⎥\n",
       "⎢ 12    16     20     24     28      32  ⎥\n",
       "⎢                                        ⎥\n",
       "⎢ 60    96     140    192    252    320  ⎥\n",
       "⎢                                        ⎥\n",
       "⎢280    512    840   1280   1848    2560 ⎥\n",
       "⎢                                        ⎥\n",
       "⎢1260  2560   4620   7680   12012  17920 ⎥\n",
       "⎢                                        ⎥\n",
       "⎣5544  12288  24024  43008  72072  114688⎦"
      ]
     },
     "execution_count": 59,
     "metadata": {},
     "output_type": "execute_result"
    }
   ],
   "source": [
    "matrix = eye(6)\n",
    "for i in range(1,7): \n",
    "    for j in range(1,7):\n",
    "        matrix[i-1,j-1] = 4*Pn1(i-1,j) + 2*Sn1(i-1,j)\n",
    "matrix"
   ]
  },
  {
   "cell_type": "markdown",
   "metadata": {},
   "source": [
    "tenendo conto che $\\frac{nS(n,t)}{t} = 4\\frac{(n-1)S(n-1,t)}{t}+ 2S(n-1,t)=\\frac{2(2(n-1)+t)S(n-1,t)}{t}$"
   ]
  },
  {
   "cell_type": "markdown",
   "metadata": {},
   "source": [
    "e quindi $S(n,t)=\\frac{2(2(n-1)+t)}{n}S(n-1,t)$"
   ]
  },
  {
   "cell_type": "markdown",
   "metadata": {},
   "source": [
    "tenendo conto che si ha $S(0,t)=1$ allora \n",
    "$$S(n,t) = 2^n\\frac{(2n-2+t)(2n-4+t) \\dots (2+t)t}{n!}$$"
   ]
  },
  {
   "cell_type": "markdown",
   "metadata": {},
   "source": [
    "quindi, se $t=2t_1$ si ha che \n",
    "$$\n",
    "S(n,2t_1) = 4^n \\frac{(n-1+t_1)(n-2+t_1) \\dots (1+t_1)t_1}{n!} = 4^n \\frac{(n-1+t_1)!}{n!(t_1-1)!}\n",
    "$$"
   ]
  },
  {
   "cell_type": "markdown",
   "metadata": {},
   "source": [
    "e quindi $$S(n,2t_1)= 4^n\\binom{n+t_1-1}{n}$$"
   ]
  },
  {
   "cell_type": "markdown",
   "metadata": {},
   "source": [
    "e quindi se $t$ è pari $$S(n,t) = 4^n\\binom{n+\\frac{t}{2}-1}{n}$$"
   ]
  },
  {
   "cell_type": "code",
   "execution_count": 60,
   "metadata": {
    "collapsed": false
   },
   "outputs": [
    {
     "data": {
      "image/png": "[encoded data removed]",
      "text/latex": [
       "$$4^{n} {\\binom{n + \\frac{t}{2} - 1}{n}}$$"
      ],
      "text/plain": [
       "   ⎛    t    ⎞\n",
       " n ⎜n + ─ - 1⎟\n",
       "4 ⋅⎜    2    ⎟\n",
       "   ⎜         ⎟\n",
       "   ⎝    n    ⎠"
      ]
     },
     "execution_count": 60,
     "metadata": {},
     "output_type": "execute_result"
    }
   ],
   "source": [
    "s_expr1 = 4**n*binomial(n+t/2-1,n)\n",
    "Sn2 = Lambda([n,t],s_expr1)\n",
    "Sn2(n,t)"
   ]
  },
  {
   "cell_type": "markdown",
   "metadata": {},
   "source": [
    "che è possibile verificare numericamente"
   ]
  },
  {
   "cell_type": "code",
   "execution_count": 61,
   "metadata": {
    "collapsed": false
   },
   "outputs": [
    {
     "data": {
      "image/png": "[encoded data removed]",
      "text/latex": [
       "$$\\left[\\begin{matrix}0 & 0 & 0 & 0 & 0 & 0 & 0\\\\0 & 0 & 0 & 0 & 0 & 0 & 0\\\\0 & 0 & 0 & 0 & 0 & 0 & 0\\\\0 & 0 & 0 & 0 & 0 & 0 & 0\\\\0 & 0 & 0 & 0 & 0 & 0 & 0\\\\0 & 0 & 0 & 0 & 0 & 0 & 0\\\\0 & 0 & 0 & 0 & 0 & 0 & 0\\end{matrix}\\right]$$"
      ],
      "text/plain": [
       "⎡0  0  0  0  0  0  0⎤\n",
       "⎢                   ⎥\n",
       "⎢0  0  0  0  0  0  0⎥\n",
       "⎢                   ⎥\n",
       "⎢0  0  0  0  0  0  0⎥\n",
       "⎢                   ⎥\n",
       "⎢0  0  0  0  0  0  0⎥\n",
       "⎢                   ⎥\n",
       "⎢0  0  0  0  0  0  0⎥\n",
       "⎢                   ⎥\n",
       "⎢0  0  0  0  0  0  0⎥\n",
       "⎢                   ⎥\n",
       "⎣0  0  0  0  0  0  0⎦"
      ]
     },
     "execution_count": 61,
     "metadata": {},
     "output_type": "execute_result"
    }
   ],
   "source": [
    "matrix = eye(7)\n",
    "for i in range(1,8): \n",
    "    for j in range(1,8):\n",
    "        matrix[i-1,j-1] = Sn1(i,2*j) - Sn2(i,2*j)\n",
    "matrix"
   ]
  },
  {
   "cell_type": "markdown",
   "metadata": {},
   "source": [
    "in cui l'ultima espressione determinata ha valori numerici pari a"
   ]
  },
  {
   "cell_type": "code",
   "execution_count": 62,
   "metadata": {
    "collapsed": false
   },
   "outputs": [
    {
     "data": {
      "image/png": "[encoded data removed]",
      "text/latex": [
       "$$\\left[\\begin{matrix}4 & 8 & 12 & 16 & 20 & 24 & 28\\\\16 & 48 & 96 & 160 & 240 & 336 & 448\\\\64 & 256 & 640 & 1280 & 2240 & 3584 & 5376\\\\256 & 1280 & 3840 & 8960 & 17920 & 32256 & 53760\\\\1024 & 6144 & 21504 & 57344 & 129024 & 258048 & 473088\\\\4096 & 28672 & 114688 & 344064 & 860160 & 1892352 & 3784704\\\\16384 & 131072 & 589824 & 1966080 & 5406720 & 12976128 & 28114944\\end{matrix}\\right]$$"
      ],
      "text/plain": [
       "⎡  4      8       12      16       20        24        28   ⎤\n",
       "⎢                                                           ⎥\n",
       "⎢ 16      48      96      160      240      336       448   ⎥\n",
       "⎢                                                           ⎥\n",
       "⎢ 64     256     640     1280     2240      3584      5376  ⎥\n",
       "⎢                                                           ⎥\n",
       "⎢ 256    1280    3840    8960     17920    32256     53760  ⎥\n",
       "⎢                                                           ⎥\n",
       "⎢1024    6144   21504    57344   129024    258048    473088 ⎥\n",
       "⎢                                                           ⎥\n",
       "⎢4096   28672   114688  344064   860160   1892352   3784704 ⎥\n",
       "⎢                                                           ⎥\n",
       "⎣16384  131072  589824  1966080  5406720  12976128  28114944⎦"
      ]
     },
     "execution_count": 62,
     "metadata": {},
     "output_type": "execute_result"
    }
   ],
   "source": [
    "matrix = eye(7)\n",
    "for i in range(1,8): \n",
    "    for j in range(1,8):\n",
    "        matrix[i-1,j-1] = Sn2(i,2*j)\n",
    "matrix"
   ]
  },
  {
   "cell_type": "markdown",
   "metadata": {},
   "source": [
    "così come $S(n)$ con $n$ pari"
   ]
  },
  {
   "cell_type": "code",
   "execution_count": 63,
   "metadata": {
    "collapsed": false
   },
   "outputs": [
    {
     "data": {
      "image/png": "[encoded data removed]",
      "text/latex": [
       "$$\\left[\\begin{matrix}4 & 8 & 12 & 16 & 20 & 24 & 28\\\\16 & 48 & 96 & 160 & 240 & 336 & 448\\\\64 & 256 & 640 & 1280 & 2240 & 3584 & 5376\\\\256 & 1280 & 3840 & 8960 & 17920 & 32256 & 53760\\\\1024 & 6144 & 21504 & 57344 & 129024 & 258048 & 473088\\\\4096 & 28672 & 114688 & 344064 & 860160 & 1892352 & 3784704\\\\16384 & 131072 & 589824 & 1966080 & 5406720 & 12976128 & 28114944\\end{matrix}\\right]$$"
      ],
      "text/plain": [
       "⎡  4      8       12      16       20        24        28   ⎤\n",
       "⎢                                                           ⎥\n",
       "⎢ 16      48      96      160      240      336       448   ⎥\n",
       "⎢                                                           ⎥\n",
       "⎢ 64     256     640     1280     2240      3584      5376  ⎥\n",
       "⎢                                                           ⎥\n",
       "⎢ 256    1280    3840    8960     17920    32256     53760  ⎥\n",
       "⎢                                                           ⎥\n",
       "⎢1024    6144   21504    57344   129024    258048    473088 ⎥\n",
       "⎢                                                           ⎥\n",
       "⎢4096   28672   114688  344064   860160   1892352   3784704 ⎥\n",
       "⎢                                                           ⎥\n",
       "⎣16384  131072  589824  1966080  5406720  12976128  28114944⎦"
      ]
     },
     "execution_count": 63,
     "metadata": {},
     "output_type": "execute_result"
    }
   ],
   "source": [
    "matrix = eye(7)\n",
    "for i in range(1,8): \n",
    "    for j in range(1,8):\n",
    "        matrix[i-1,j-1] = Sn1(i,2*j)\n",
    "matrix"
   ]
  },
  {
   "cell_type": "markdown",
   "metadata": {},
   "source": [
    "nel caso in cui $t=2t_1+1$, ovvero se t è dispari si ha che \n",
    "$$ \n",
    "S(n,2t_1+1)=\\binom{2n+2t_1}{2n} \\binom{2n}{n} \\frac{1}{\\binom{n+t_1}{n}}\n",
    "$$"
   ]
  },
  {
   "cell_type": "markdown",
   "metadata": {},
   "source": [
    "che si può verificare numericamente "
   ]
  },
  {
   "cell_type": "code",
   "execution_count": 64,
   "metadata": {
    "collapsed": false
   },
   "outputs": [
    {
     "data": {
      "image/png": "[encoded data removed]",
      "text/latex": [
       "$$\\frac{{\\binom{2 n}{n}} {\\binom{2 n + t - 1}{2 n}}}{{\\binom{n + \\frac{t}{2} - \\frac{1}{2}}{n}}}$$"
      ],
      "text/plain": [
       "⎛2⋅n⎞ ⎛2⋅n + t - 1⎞\n",
       "⎜   ⎟⋅⎜           ⎟\n",
       "⎝ n ⎠ ⎝    2⋅n    ⎠\n",
       "───────────────────\n",
       "    ⎛    t   1⎞    \n",
       "    ⎜n + ─ - ─⎟    \n",
       "    ⎜    2   2⎟    \n",
       "    ⎜         ⎟    \n",
       "    ⎝    n    ⎠    "
      ]
     },
     "execution_count": 64,
     "metadata": {},
     "output_type": "execute_result"
    }
   ],
   "source": [
    "s_expr2 = binomial(2*n+t-1,2*n)*binomial(2*n,n)*(1/binomial(n+((t-1)/2),n))\n",
    "Sn3 = Lambda([n,t],s_expr2)\n",
    "Sn3(n,t)"
   ]
  },
  {
   "cell_type": "markdown",
   "metadata": {},
   "source": [
    "eseguendo una verifica si ha"
   ]
  },
  {
   "cell_type": "code",
   "execution_count": 65,
   "metadata": {
    "collapsed": false
   },
   "outputs": [
    {
     "data": {
      "image/png": "[encoded data removed]",
      "text/latex": [
       "$$\\left[\\begin{matrix}0 & 0 & 0 & 0 & 0 & 0 & 0\\\\0 & 0 & 0 & 0 & 0 & 0 & 0\\\\0 & 0 & 0 & 0 & 0 & 0 & 0\\\\0 & 0 & 0 & 0 & 0 & 0 & 0\\\\0 & 0 & 0 & 0 & 0 & 0 & 0\\\\0 & 0 & 0 & 0 & 0 & 0 & 0\\\\0 & 0 & 0 & 0 & 0 & 0 & 0\\end{matrix}\\right]$$"
      ],
      "text/plain": [
       "⎡0  0  0  0  0  0  0⎤\n",
       "⎢                   ⎥\n",
       "⎢0  0  0  0  0  0  0⎥\n",
       "⎢                   ⎥\n",
       "⎢0  0  0  0  0  0  0⎥\n",
       "⎢                   ⎥\n",
       "⎢0  0  0  0  0  0  0⎥\n",
       "⎢                   ⎥\n",
       "⎢0  0  0  0  0  0  0⎥\n",
       "⎢                   ⎥\n",
       "⎢0  0  0  0  0  0  0⎥\n",
       "⎢                   ⎥\n",
       "⎣0  0  0  0  0  0  0⎦"
      ]
     },
     "execution_count": 65,
     "metadata": {},
     "output_type": "execute_result"
    }
   ],
   "source": [
    "matrix = eye(7)\n",
    "for i in range(1,8): \n",
    "    for j in range(1,8):\n",
    "        matrix[i-1,j-1] = Sn1(i,2*j+1) - Sn3(i,2*j+1)\n",
    "matrix"
   ]
  },
  {
   "cell_type": "markdown",
   "metadata": {},
   "source": [
    "in cui l'ultima espressione determinata ha valori uguali a "
   ]
  },
  {
   "cell_type": "code",
   "execution_count": 66,
   "metadata": {
    "collapsed": false
   },
   "outputs": [
    {
     "data": {
      "image/png": "[encoded data removed]",
      "text/latex": [
       "$$\\left[\\begin{matrix}6 & 10 & 14 & 18 & 22 & 26 & 30\\\\30 & 70 & 126 & 198 & 286 & 390 & 510\\\\140 & 420 & 924 & 1716 & 2860 & 4420 & 6460\\\\630 & 2310 & 6006 & 12870 & 24310 & 41990 & 67830\\\\2772 & 12012 & 36036 & 87516 & 184756 & 352716 & 624036\\\\12012 & 60060 & 204204 & 554268 & 1293292 & 2704156 & 5200300\\\\51480 & 291720 & 1108536 & 3325608 & 8498776 & 19315400 & 40116600\\end{matrix}\\right]$$"
      ],
      "text/plain": [
       "⎡  6      10      14       18       22        26        30   ⎤\n",
       "⎢                                                            ⎥\n",
       "⎢ 30      70      126      198      286      390       510   ⎥\n",
       "⎢                                                            ⎥\n",
       "⎢ 140    420      924     1716     2860      4420      6460  ⎥\n",
       "⎢                                                            ⎥\n",
       "⎢ 630    2310    6006     12870    24310    41990     67830  ⎥\n",
       "⎢                                                            ⎥\n",
       "⎢2772   12012    36036    87516   184756    352716    624036 ⎥\n",
       "⎢                                                            ⎥\n",
       "⎢12012  60060   204204   554268   1293292  2704156   5200300 ⎥\n",
       "⎢                                                            ⎥\n",
       "⎣51480  291720  1108536  3325608  8498776  19315400  40116600⎦"
      ]
     },
     "execution_count": 66,
     "metadata": {},
     "output_type": "execute_result"
    }
   ],
   "source": [
    "matrix = eye(7)\n",
    "for i in range(1,8): \n",
    "    for j in range(1,8):\n",
    "        matrix[i-1,j-1] = Sn3(i,2*j+1)\n",
    "matrix"
   ]
  },
  {
   "cell_type": "markdown",
   "metadata": {},
   "source": [
    "così come $S(n)$ con $n$ dispari."
   ]
  },
  {
   "cell_type": "code",
   "execution_count": 67,
   "metadata": {
    "collapsed": false
   },
   "outputs": [
    {
     "data": {
      "image/png": "[encoded data removed]",
      "text/latex": [
       "$$\\left[\\begin{matrix}6 & 10 & 14 & 18 & 22 & 26 & 30\\\\30 & 70 & 126 & 198 & 286 & 390 & 510\\\\140 & 420 & 924 & 1716 & 2860 & 4420 & 6460\\\\630 & 2310 & 6006 & 12870 & 24310 & 41990 & 67830\\\\2772 & 12012 & 36036 & 87516 & 184756 & 352716 & 624036\\\\12012 & 60060 & 204204 & 554268 & 1293292 & 2704156 & 5200300\\\\51480 & 291720 & 1108536 & 3325608 & 8498776 & 19315400 & 40116600\\end{matrix}\\right]$$"
      ],
      "text/plain": [
       "⎡  6      10      14       18       22        26        30   ⎤\n",
       "⎢                                                            ⎥\n",
       "⎢ 30      70      126      198      286      390       510   ⎥\n",
       "⎢                                                            ⎥\n",
       "⎢ 140    420      924     1716     2860      4420      6460  ⎥\n",
       "⎢                                                            ⎥\n",
       "⎢ 630    2310    6006     12870    24310    41990     67830  ⎥\n",
       "⎢                                                            ⎥\n",
       "⎢2772   12012    36036    87516   184756    352716    624036 ⎥\n",
       "⎢                                                            ⎥\n",
       "⎢12012  60060   204204   554268   1293292  2704156   5200300 ⎥\n",
       "⎢                                                            ⎥\n",
       "⎣51480  291720  1108536  3325608  8498776  19315400  40116600⎦"
      ]
     },
     "execution_count": 67,
     "metadata": {},
     "output_type": "execute_result"
    }
   ],
   "source": [
    "matrix = eye(7)\n",
    "for i in range(1,8): \n",
    "    for j in range(1,8):\n",
    "        matrix[i-1,j-1] = Sn1(i,2*j+1)\n",
    "matrix"
   ]
  },
  {
   "cell_type": "markdown",
   "metadata": {
    "collapsed": true
   },
   "source": [
    "<h3>Conclusioni</h3>"
   ]
  },
  {
   "cell_type": "markdown",
   "metadata": {},
   "source": [
    "Nel corso della prima dimostrazione è stata verificata numericamente l'identita $P(n)=4P(n-1)+2T(n-1)$ che stabilisce una relazione tra l'espressione $T(n)$ e la somma ausiliaria $P(n)$. espressioni del tutto analoghe sono state verificate anche nelle dimostrazioni dei successivi due casi. Infatti è possibile generalizzare questo risultato nel seguente modo: Sia $f$ una funzione di $k$ indipendente da $n$ e siano $S(n)$ e $P(n)$\n",
    "$$S(n)=\\sum_{k=0}^{n}f(k)\\binom{2k}{k}\\binom{2(n-k)}{n-k} $$\n",
    "$$P(n)=\\sum_{k=0}^{n}(n-k)f(k)\\binom{2k}{k}\\binom{2(n-k)}{n-k}$$ \n",
    "allora, per ogni $n \\in \\mathbb{N}$ vale\n",
    "$$P(n)=4P(n-1)+2S(n-1)$$"
   ]
  },
  {
   "cell_type": "markdown",
   "metadata": {},
   "source": [
    "si consideri ad esempio $f(k) = k^2$. Allora sia $V(n)$"
   ]
  },
  {
   "cell_type": "code",
   "execution_count": 68,
   "metadata": {
    "collapsed": false
   },
   "outputs": [
    {
     "data": {
      "image/png": "[encoded data removed]",
      "text/latex": [
       "$$V{\\left (n \\right )} = \\sum_{k=0}^{n} k^{2} {\\binom{2 k}{k}} {\\binom{- 2 k + 2 n}{- k + n}}$$"
      ],
      "text/plain": [
       "         n                        \n",
       "        ____                      \n",
       "        ╲                         \n",
       "         ╲    2 ⎛2⋅k⎞ ⎛-2⋅k + 2⋅n⎞\n",
       "          ╲  k ⋅⎜   ⎟⋅⎜          ⎟\n",
       "V(n) =    ╱     ⎝ k ⎠ ⎝  -k + n  ⎠\n",
       "         ╱                        \n",
       "        ╱                         \n",
       "        ‾‾‾‾                      \n",
       "       k = 0                      "
      ]
     },
     "execution_count": 68,
     "metadata": {},
     "output_type": "execute_result"
    }
   ],
   "source": [
    "V = Function('V')\n",
    "v_expr1 = Sum((k**2)*binomial(2*k,k)*binomial(2*(n-k),n-k),(k,0,n))\n",
    "v_rec1 = Eq(V(n), v_expr1)\n",
    "Vn1 = Lambda([n],v_expr1)\n",
    "v_rec1"
   ]
  },
  {
   "cell_type": "markdown",
   "metadata": {},
   "source": [
    "e $U(n)$"
   ]
  },
  {
   "cell_type": "code",
   "execution_count": 69,
   "metadata": {
    "collapsed": false
   },
   "outputs": [
    {
     "data": {
      "image/png": "[encoded data removed]",
      "text/latex": [
       "$$U{\\left (n \\right )} = \\sum_{k=0}^{n} k^{2} \\left(- k + n\\right) {\\binom{2 k}{k}} {\\binom{- 2 k + 2 n}{- k + n}}$$"
      ],
      "text/plain": [
       "         n                                 \n",
       "        ____                               \n",
       "        ╲                                  \n",
       "         ╲    2          ⎛2⋅k⎞ ⎛-2⋅k + 2⋅n⎞\n",
       "          ╲  k ⋅(-k + n)⋅⎜   ⎟⋅⎜          ⎟\n",
       "U(n) =    ╱              ⎝ k ⎠ ⎝  -k + n  ⎠\n",
       "         ╱                                 \n",
       "        ╱                                  \n",
       "        ‾‾‾‾                               \n",
       "       k = 0                               "
      ]
     },
     "execution_count": 69,
     "metadata": {},
     "output_type": "execute_result"
    }
   ],
   "source": [
    "U = Function('U')\n",
    "u_expr1 = Sum((n-k)*(k**2)*binomial(2*k,k)*binomial(2*(n-k),n-k),(k,0,n))\n",
    "u_rec1 = Eq(U(n), u_expr1)\n",
    "Un1 = Lambda([n],u_expr1)\n",
    "u_rec1"
   ]
  },
  {
   "cell_type": "markdown",
   "metadata": {},
   "source": [
    "verificando numericamente $U(n) = 4U(n-1)+2V(n-1)$ si ha che"
   ]
  },
  {
   "cell_type": "code",
   "execution_count": 70,
   "metadata": {
    "collapsed": false
   },
   "outputs": [
    {
     "data": {
      "image/png": "[encoded data removed]",
      "text/latex": [
       "$$\\left [ \\left ( 1, \\quad 0\\right ), \\quad \\left ( 2, \\quad 0\\right ), \\quad \\left ( 3, \\quad 0\\right ), \\quad \\left ( 4, \\quad 0\\right ), \\quad \\left ( 5, \\quad 0\\right ), \\quad \\left ( 6, \\quad 0\\right ), \\quad \\left ( 7, \\quad 0\\right ), \\quad \\left ( 8, \\quad 0\\right ), \\quad \\left ( 9, \\quad 0\\right ), \\quad \\left ( 10, \\quad 0\\right )\\right ]$$"
      ],
      "text/plain": [
       "[(1, 0), (2, 0), (3, 0), (4, 0), (5, 0), (6, 0), (7, 0), (8, 0), (9, 0), (10, \n",
       "0)]"
      ]
     },
     "execution_count": 70,
     "metadata": {},
     "output_type": "execute_result"
    }
   ],
   "source": [
    "[(n, Un1(n).doit() - 4*Un1(n-1).doit()-2*Vn1(n-1).doit()) for n in range(1,11)]"
   ]
  },
  {
   "cell_type": "markdown",
   "metadata": {},
   "source": [
    "infatti in entrambi i casi si hanno i medesimi valori numerici"
   ]
  },
  {
   "cell_type": "code",
   "execution_count": 71,
   "metadata": {
    "collapsed": false
   },
   "outputs": [
    {
     "data": {
      "image/png": "[encoded data removed]",
      "text/latex": [
       "$$\\left [ \\left ( 1, \\quad 0\\right ), \\quad \\left ( 2, \\quad 4\\right ), \\quad \\left ( 3, \\quad 72\\right ), \\quad \\left ( 4, \\quad 768\\right ), \\quad \\left ( 5, \\quad 6400\\right ), \\quad \\left ( 6, \\quad 46080\\right ), \\quad \\left ( 7, \\quad 301056\\right ), \\quad \\left ( 8, \\quad 1835008\\right ), \\quad \\left ( 9, \\quad 10616832\\right ), \\quad \\left ( 10, \\quad 58982400\\right )\\right ]$$"
      ],
      "text/plain": [
       "[(1, 0), (2, 4), (3, 72), (4, 768), (5, 6400), (6, 46080), (7, 301056), (8, 18\n",
       "35008), (9, 10616832), (10, 58982400)]"
      ]
     },
     "execution_count": 71,
     "metadata": {},
     "output_type": "execute_result"
    }
   ],
   "source": [
    "[(n, Un1(n).doit()) for n in range(1,11)]"
   ]
  },
  {
   "cell_type": "code",
   "execution_count": 72,
   "metadata": {
    "collapsed": false
   },
   "outputs": [
    {
     "data": {
      "image/png": "[encoded data removed]",
      "text/latex": [
       "$$\\left [ \\left ( 1, \\quad 0\\right ), \\quad \\left ( 2, \\quad 4\\right ), \\quad \\left ( 3, \\quad 72\\right ), \\quad \\left ( 4, \\quad 768\\right ), \\quad \\left ( 5, \\quad 6400\\right ), \\quad \\left ( 6, \\quad 46080\\right ), \\quad \\left ( 7, \\quad 301056\\right ), \\quad \\left ( 8, \\quad 1835008\\right ), \\quad \\left ( 9, \\quad 10616832\\right ), \\quad \\left ( 10, \\quad 58982400\\right )\\right ]$$"
      ],
      "text/plain": [
       "[(1, 0), (2, 4), (3, 72), (4, 768), (5, 6400), (6, 46080), (7, 301056), (8, 18\n",
       "35008), (9, 10616832), (10, 58982400)]"
      ]
     },
     "execution_count": 72,
     "metadata": {},
     "output_type": "execute_result"
    }
   ],
   "source": [
    "[(n, 4*Un1(n-1).doit()+2*Vn1(n-1).doit()) for n in range(1,11)]"
   ]
  }
 ],
 "metadata": {
  "anaconda-cloud": {},
  "kernelspec": {
   "display_name": "Python [conda root]",
   "language": "python",
   "name": "conda-root-py"
  },
  "language_info": {
   "codemirror_mode": {
    "name": "ipython",
    "version": 3
   },
   "file_extension": ".py",
   "mimetype": "text/x-python",
   "name": "python",
   "nbconvert_exporter": "python",
   "pygments_lexer": "ipython3",
   "version": "3.5.2"
  }
 },
 "nbformat": 4,
 "nbformat_minor": 1
}
