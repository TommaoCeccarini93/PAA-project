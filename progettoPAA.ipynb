{
 "cells": [
  {
   "cell_type": "markdown",
   "metadata": {},
   "source": [
    "# Progetto PAA a.a 2016/2017"
   ]
  },
  {
   "cell_type": "markdown",
   "metadata": {},
   "source": [
    "Autore:\n",
    "<ul>\n",
    "<li>Tommaso Ceccarini, 6242250 <a href=\"mailto:tommaso.ceccarini1@stud.unifi.it\">tommaso.ceccarini1@stud.unifi.it</a> </li>\n",
    "</ul>"
   ]
  },
  {
   "cell_type": "markdown",
   "metadata": {},
   "source": [
    "<h3>Introduzione</h3>\n",
    "In questo notebook verranno eseguite alcune verifiche numeriche relative le seguenti identità\n",
    "$$\\sum_{k=0}^{n}\\binom{2k}{k}\\binom{2(n-k)}{n-k} = 4^n$$\n",
    "$$\\sum_{k=0}^{n}(-1)^n\\binom{2k}{k}\\binom{2(n-k)}{n-k} = \\begin{cases}\n",
    "    2^n \\binom{n}{\\frac{n}{2}}       & \\quad \\text{se } n \\text{ è pari}\\\\\n",
    "    0  & \\quad \\text{se } n \\text{ è dispari}\\\\\n",
    "  \\end{cases}$$\n",
    "$$\\sum_{\\substack{i_1+i_2+\\dots+i_t=n \\\\ i_1 \\geq 0,i_2 \\geq 0,\\dots,i_t \\geq 0}}^{n}\\binom{2i_1}{i_1}\\binom{2i_2}{i_2} \\dots \\binom{2i_t}{i_t}= \\begin{cases}\n",
    "    4^n \\binom{n+\\frac{t}{2}-1}{n}       & \\quad \\text{se } t \\text{ è pari}\\\\\n",
    "    \\frac{\\binom{2n+t-1}{2n}}{\\binom{n+\\frac{1}{2}(t-1)}{n}}\\binom{2n}{n}  & \\quad \\text{se } t \\text{ è dispari}\\\\\n",
    "  \\end{cases}$$"
   ]
  },
  {
   "cell_type": "markdown",
   "metadata": {},
   "source": [
    "Come prima cosa vengono importati le librerie necessarie e viene abilitata la visualizzazione stile latex"
   ]
  },
  {
   "cell_type": "code",
   "execution_count": 1,
   "metadata": {
    "collapsed": true
   },
   "outputs": [],
   "source": [
    "import itertools\n",
    "import matplotlib.pyplot as plt\n",
    "import numpy as np\n",
    "import sympy\n",
    "from sympy import *\n",
    "from sympy.abc import x, n, z, t, j, k\n",
    "from sympy.combinatorics import *\n",
    "from sympy.utilities.lambdify import lambdify, implemented_function\n",
    "import timeit\n",
    "\n",
    "init_printing()"
   ]
  },
  {
   "cell_type": "markdown",
   "metadata": {},
   "source": [
    "<h3>Caso 1</h3>"
   ]
  },
  {
   "cell_type": "code",
   "execution_count": 2,
   "metadata": {
    "collapsed": false
   },
   "outputs": [
    {
     "data": {
      "image/png": "[encoded data removed]",
      "text/latex": [
       "$$T{\\left (n \\right )} = \\sum_{k=0}^{n} {\\binom{2 k}{k}} {\\binom{- 2 k + 2 n}{- k + n}}$$"
      ],
      "text/plain": [
       "         n                     \n",
       "        ____                   \n",
       "        ╲                      \n",
       "         ╲   ⎛2⋅k⎞ ⎛-2⋅k + 2⋅n⎞\n",
       "          ╲  ⎜   ⎟⋅⎜          ⎟\n",
       "T(n) =    ╱  ⎝ k ⎠ ⎝  -k + n  ⎠\n",
       "         ╱                     \n",
       "        ╱                      \n",
       "        ‾‾‾‾                   \n",
       "       k = 0                   "
      ]
     },
     "execution_count": 2,
     "metadata": {},
     "output_type": "execute_result"
    }
   ],
   "source": [
    "T = Function('T')\n",
    "t_expr1 = Sum(binomial(2*k,k)*binomial(2*(n-k),n-k),(k,0,n))\n",
    "t_rec1 = Eq(T(n), t_expr1)\n",
    "Tn1 = Lambda([n],t_expr1)\n",
    "t_rec1"
   ]
  },
  {
   "cell_type": "markdown",
   "metadata": {},
   "source": [
    "Viene definita la funzione ausiliaria $P(n)$ necessaria la dimostrare la prima identità"
   ]
  },
  {
   "cell_type": "code",
   "execution_count": 3,
   "metadata": {
    "collapsed": false
   },
   "outputs": [
    {
     "data": {
      "image/png": "[encoded data removed]",
      "text/latex": [
       "$$P{\\left (n \\right )} = \\sum_{k=0}^{n} \\left(- k + n\\right) {\\binom{2 k}{k}} {\\binom{- 2 k + 2 n}{- k + n}}$$"
      ],
      "text/plain": [
       "         n                              \n",
       "        ____                            \n",
       "        ╲                               \n",
       "         ╲            ⎛2⋅k⎞ ⎛-2⋅k + 2⋅n⎞\n",
       "          ╲  (-k + n)⋅⎜   ⎟⋅⎜          ⎟\n",
       "P(n) =    ╱           ⎝ k ⎠ ⎝  -k + n  ⎠\n",
       "         ╱                              \n",
       "        ╱                               \n",
       "        ‾‾‾‾                            \n",
       "       k = 0                            "
      ]
     },
     "execution_count": 3,
     "metadata": {},
     "output_type": "execute_result"
    }
   ],
   "source": [
    "P = Function('P')\n",
    "p_expr1 = Sum((n-k)*binomial(2*k,k)*binomial(2*(n-k),n-k),(k,0,n))\n",
    "p_rec1 = Eq(P(n),p_expr1)\n",
    "Pn1 = Lambda([n], p_expr1)\n",
    "p_rec1"
   ]
  },
  {
   "cell_type": "markdown",
   "metadata": {},
   "source": [
    "Si osservi che vale la seguente relazione "
   ]
  },
  {
   "cell_type": "code",
   "execution_count": 4,
   "metadata": {
    "collapsed": false
   },
   "outputs": [
    {
     "data": {
      "image/png": "[encoded data removed]",
      "text/latex": [
       "$$P{\\left (n \\right )} = \\frac{n}{2} T{\\left (n \\right )}$$"
      ],
      "text/plain": [
       "       n⋅T(n)\n",
       "P(n) = ──────\n",
       "         2   "
      ]
     },
     "execution_count": 4,
     "metadata": {},
     "output_type": "execute_result"
    }
   ],
   "source": [
    "p_rec2 = Eq(P(n),(n*T(n))/2)\n",
    "p_rec2 "
   ]
  },
  {
   "cell_type": "markdown",
   "metadata": {},
   "source": [
    "Che si può verificare numericamente"
   ]
  },
  {
   "cell_type": "code",
   "execution_count": 5,
   "metadata": {
    "collapsed": false
   },
   "outputs": [
    {
     "data": {
      "image/png": "[encoded data removed]",
      "text/latex": [
       "$$\\left [ \\left ( 0, \\quad 0\\right ), \\quad \\left ( 1, \\quad 0\\right ), \\quad \\left ( 2, \\quad 0\\right ), \\quad \\left ( 3, \\quad 0\\right ), \\quad \\left ( 4, \\quad 0\\right ), \\quad \\left ( 5, \\quad 0\\right ), \\quad \\left ( 6, \\quad 0\\right ), \\quad \\left ( 7, \\quad 0\\right ), \\quad \\left ( 8, \\quad 0\\right ), \\quad \\left ( 9, \\quad 0\\right ), \\quad \\left ( 10, \\quad 0\\right )\\right ]$$"
      ],
      "text/plain": [
       "[(0, 0), (1, 0), (2, 0), (3, 0), (4, 0), (5, 0), (6, 0), (7, 0), (8, 0), (9, 0\n",
       "), (10, 0)]"
      ]
     },
     "execution_count": 5,
     "metadata": {},
     "output_type": "execute_result"
    }
   ],
   "source": [
    "[(n,Pn1(n).doit() - (n*Tn1(n).doit())/2) for n in range(0,11)]"
   ]
  },
  {
   "cell_type": "markdown",
   "metadata": {},
   "source": [
    "Si noti che per $k=n$ il valore della somma vale $0$ e quindi vale la seguente uguaglianza"
   ]
  },
  {
   "cell_type": "code",
   "execution_count": 6,
   "metadata": {
    "collapsed": false
   },
   "outputs": [
    {
     "data": {
      "image/png": "[encoded data removed]",
      "text/latex": [
       "$$\\sum_{k=0}^{n} \\left(- k + n\\right) {\\binom{2 k}{k}} {\\binom{- 2 k + 2 n}{- k + n}} = 2 \\sum_{k=0}^{n - 1} \\left(- k + n\\right) {\\binom{2 k}{k}} {\\binom{- 2 k + 2 n - 1}{- k + n}}$$"
      ],
      "text/plain": [
       "  n                                   n - 1                                \n",
       " ____                                  ____                                \n",
       " ╲                                     ╲                                   \n",
       "  ╲            ⎛2⋅k⎞ ⎛-2⋅k + 2⋅n⎞       ╲            ⎛2⋅k⎞ ⎛-2⋅k + 2⋅n - 1⎞\n",
       "   ╲  (-k + n)⋅⎜   ⎟⋅⎜          ⎟        ╲  (-k + n)⋅⎜   ⎟⋅⎜              ⎟\n",
       "   ╱           ⎝ k ⎠ ⎝  -k + n  ⎠ = 2⋅   ╱           ⎝ k ⎠ ⎝    -k + n    ⎠\n",
       "  ╱                                     ╱                                  \n",
       " ╱                                     ╱                                   \n",
       " ‾‾‾‾                                  ‾‾‾‾                                \n",
       "k = 0                                 k = 0                                "
      ]
     },
     "execution_count": 6,
     "metadata": {},
     "output_type": "execute_result"
    }
   ],
   "source": [
    "p_expr2 = 2*Sum((n-k)*binomial(2*k,k)*binomial(2*(n-k)-1,n-k),(k,0,n-1))\n",
    "p_rec2 = Eq(p_expr1,p_expr2)\n",
    "Pn2 = Lambda([n],p_expr2)\n",
    "p_rec2"
   ]
  },
  {
   "cell_type": "markdown",
   "metadata": {},
   "source": [
    "Verificandolo numericamente"
   ]
  },
  {
   "cell_type": "code",
   "execution_count": 7,
   "metadata": {
    "collapsed": false
   },
   "outputs": [
    {
     "data": {
      "image/png": "[encoded data removed]",
      "text/latex": [
       "$$\\left [ \\left ( 0, \\quad 0\\right ), \\quad \\left ( 1, \\quad 0\\right ), \\quad \\left ( 2, \\quad 0\\right ), \\quad \\left ( 3, \\quad 0\\right ), \\quad \\left ( 4, \\quad 0\\right ), \\quad \\left ( 5, \\quad 0\\right ), \\quad \\left ( 6, \\quad 0\\right ), \\quad \\left ( 7, \\quad 0\\right ), \\quad \\left ( 8, \\quad 0\\right ), \\quad \\left ( 9, \\quad 0\\right ), \\quad \\left ( 10, \\quad 0\\right )\\right ]$$"
      ],
      "text/plain": [
       "[(0, 0), (1, 0), (2, 0), (3, 0), (4, 0), (5, 0), (6, 0), (7, 0), (8, 0), (9, 0\n",
       "), (10, 0)]"
      ]
     },
     "execution_count": 7,
     "metadata": {},
     "output_type": "execute_result"
    }
   ],
   "source": [
    "[(n,Pn1(n).doit() - Pn2(n).doit()) for n in range(0,11)]"
   ]
  },
  {
   "cell_type": "markdown",
   "metadata": {},
   "source": [
    "Il prossimo passo consiste nel portare fuori dal coefficiente binomiale gli ultimi termini"
   ]
  },
  {
   "cell_type": "code",
   "execution_count": 8,
   "metadata": {
    "collapsed": false
   },
   "outputs": [
    {
     "data": {
      "image/png": "[encoded data removed]",
      "text/latex": [
       "$$2 \\sum_{k=0}^{n - 1} \\left(- k + n\\right) {\\binom{2 k}{k}} {\\binom{- 2 k + 2 n - 1}{- k + n}} = 2 \\sum_{k=0}^{n - 1} \\left(- 2 k + 2 n - 1\\right) {\\binom{2 k}{k}} {\\binom{- 2 k + 2 n - 2}{- k + n - 1}}$$"
      ],
      "text/plain": [
       "  n - 1                                     n - 1                             \n",
       "   ____                                      ____                             \n",
       "   ╲                                         ╲                                \n",
       "    ╲            ⎛2⋅k⎞ ⎛-2⋅k + 2⋅n - 1⎞       ╲                    ⎛2⋅k⎞ ⎛-2⋅k\n",
       "     ╲  (-k + n)⋅⎜   ⎟⋅⎜              ⎟        ╲  (-2⋅k + 2⋅n - 1)⋅⎜   ⎟⋅⎜    \n",
       "2⋅   ╱           ⎝ k ⎠ ⎝    -k + n    ⎠ = 2⋅   ╱                   ⎝ k ⎠ ⎝  -k\n",
       "    ╱                                         ╱                               \n",
       "   ╱                                         ╱                                \n",
       "   ‾‾‾‾                                      ‾‾‾‾                             \n",
       "  k = 0                                     k = 0                             \n",
       "\n",
       "           \n",
       "           \n",
       "           \n",
       " + 2⋅n - 2⎞\n",
       "          ⎟\n",
       " + n - 1  ⎠\n",
       "           \n",
       "           \n",
       "           \n",
       "           "
      ]
     },
     "execution_count": 8,
     "metadata": {},
     "output_type": "execute_result"
    }
   ],
   "source": [
    "p_expr3 = 2*Sum((2*(n-k)-1)*binomial(2*k,k)*binomial(2*(n-k-1),n-1-k),(k,0,n-1))\n",
    "p_rec3 = Eq(p_expr2,p_expr3)\n",
    "Pn3 = Lambda([n],p_expr3)\n",
    "p_rec3"
   ]
  },
  {
   "cell_type": "markdown",
   "metadata": {},
   "source": [
    "La verifica numerica rivela che"
   ]
  },
  {
   "cell_type": "code",
   "execution_count": 9,
   "metadata": {
    "collapsed": false
   },
   "outputs": [
    {
     "data": {
      "image/png": "[encoded data removed]",
      "text/latex": [
       "$$\\left [ \\left ( 0, \\quad 0\\right ), \\quad \\left ( 1, \\quad 0\\right ), \\quad \\left ( 2, \\quad 0\\right ), \\quad \\left ( 3, \\quad 0\\right ), \\quad \\left ( 4, \\quad 0\\right ), \\quad \\left ( 5, \\quad 0\\right ), \\quad \\left ( 6, \\quad 0\\right ), \\quad \\left ( 7, \\quad 0\\right ), \\quad \\left ( 8, \\quad 0\\right ), \\quad \\left ( 9, \\quad 0\\right ), \\quad \\left ( 10, \\quad 0\\right )\\right ]$$"
      ],
      "text/plain": [
       "[(0, 0), (1, 0), (2, 0), (3, 0), (4, 0), (5, 0), (6, 0), (7, 0), (8, 0), (9, 0\n",
       "), (10, 0)]"
      ]
     },
     "execution_count": 9,
     "metadata": {},
     "output_type": "execute_result"
    }
   ],
   "source": [
    "[(n,Pn2(n).doit() - Pn3(n).doit()) for n in range(0,11)]"
   ]
  },
  {
   "cell_type": "markdown",
   "metadata": {},
   "source": [
    "Svolgendo il prodotto ed eseguendo la somma si ha che "
   ]
  },
  {
   "cell_type": "code",
   "execution_count": 10,
   "metadata": {
    "collapsed": false
   },
   "outputs": [
    {
     "data": {
      "image/png": "[encoded data removed]",
      "text/latex": [
       "$$2 \\sum_{k=0}^{n - 1} \\left(- 2 k + 2 n - 1\\right) {\\binom{2 k}{k}} {\\binom{- 2 k + 2 n - 2}{- k + n - 1}} = 2 \\sum_{k=0}^{n - 1} {\\binom{2 k}{k}} {\\binom{- 2 k + 2 n - 2}{- k + n - 1}} + 4 \\sum_{k=0}^{n - 1} \\left(- k + n - 1\\right) {\\binom{2 k}{k}} {\\binom{- 2 k + 2 n - 2}{- k + n - 1}}$$"
      ],
      "text/plain": [
       "  n - 1                                             n - 1                     \n",
       "   ____                                              ____                     \n",
       "   ╲                                                 ╲                        \n",
       "    ╲                    ⎛2⋅k⎞ ⎛-2⋅k + 2⋅n - 2⎞       ╲   ⎛2⋅k⎞ ⎛-2⋅k + 2⋅n - \n",
       "     ╲  (-2⋅k + 2⋅n - 1)⋅⎜   ⎟⋅⎜              ⎟        ╲  ⎜   ⎟⋅⎜             \n",
       "2⋅   ╱                   ⎝ k ⎠ ⎝  -k + n - 1  ⎠ = 2⋅   ╱  ⎝ k ⎠ ⎝  -k + n - 1 \n",
       "    ╱                                                 ╱                       \n",
       "   ╱                                                 ╱                        \n",
       "   ‾‾‾‾                                              ‾‾‾‾                     \n",
       "  k = 0                                             k = 0                     \n",
       "\n",
       "       n - 1                                    \n",
       "        ____                                    \n",
       "        ╲                                       \n",
       "2⎞       ╲                ⎛2⋅k⎞ ⎛-2⋅k + 2⋅n - 2⎞\n",
       " ⎟        ╲  (-k + n - 1)⋅⎜   ⎟⋅⎜              ⎟\n",
       " ⎠ + 4⋅   ╱               ⎝ k ⎠ ⎝  -k + n - 1  ⎠\n",
       "         ╱                                      \n",
       "        ╱                                       \n",
       "        ‾‾‾‾                                    \n",
       "       k = 0                                    "
      ]
     },
     "execution_count": 10,
     "metadata": {},
     "output_type": "execute_result"
    }
   ],
   "source": [
    "p_expr4 = 4*Sum((n-1-k)*binomial(2*k,k)*binomial(2*(n-1-k),n-1-k),(k,0,n-1))+2*Sum(binomial(2*k,k)*binomial(2*(n-1-k),n-1-k),(k,0,n-1))\n",
    "p_rec4 = Eq(p_expr3,p_expr4)\n",
    "Pn4 = Lambda([n],p_expr4)\n",
    "p_rec4"
   ]
  },
  {
   "cell_type": "markdown",
   "metadata": {},
   "source": [
    "Eseguendo la verifica numerica"
   ]
  },
  {
   "cell_type": "code",
   "execution_count": 11,
   "metadata": {
    "collapsed": false
   },
   "outputs": [
    {
     "data": {
      "image/png": "[encoded data removed]",
      "text/latex": [
       "$$\\left [ \\left ( 0, \\quad 0\\right ), \\quad \\left ( 1, \\quad 0\\right ), \\quad \\left ( 2, \\quad 0\\right ), \\quad \\left ( 3, \\quad 0\\right ), \\quad \\left ( 4, \\quad 0\\right ), \\quad \\left ( 5, \\quad 0\\right ), \\quad \\left ( 6, \\quad 0\\right ), \\quad \\left ( 7, \\quad 0\\right ), \\quad \\left ( 8, \\quad 0\\right ), \\quad \\left ( 9, \\quad 0\\right ), \\quad \\left ( 10, \\quad 0\\right )\\right ]$$"
      ],
      "text/plain": [
       "[(0, 0), (1, 0), (2, 0), (3, 0), (4, 0), (5, 0), (6, 0), (7, 0), (8, 0), (9, 0\n",
       "), (10, 0)]"
      ]
     },
     "execution_count": 11,
     "metadata": {},
     "output_type": "execute_result"
    }
   ],
   "source": [
    "[(n,Pn3(n).doit() - Pn4(n).doit()) for n in range(0,11)]"
   ]
  },
  {
   "cell_type": "markdown",
   "metadata": {},
   "source": [
    "Quindi valgono le seguenti relazioni"
   ]
  },
  {
   "cell_type": "code",
   "execution_count": 12,
   "metadata": {
    "collapsed": false
   },
   "outputs": [
    {
     "data": {
      "image/png": "[encoded data removed]",
      "text/latex": [
       "$$P{\\left (n \\right )} = 4 P{\\left (n - 1 \\right )} + 2 T{\\left (n - 1 \\right )}$$"
      ],
      "text/plain": [
       "P(n) = 4⋅P(n - 1) + 2⋅T(n - 1)"
      ]
     },
     "execution_count": 12,
     "metadata": {},
     "output_type": "execute_result"
    }
   ],
   "source": [
    "p_rec5 = Eq(P(n),4*P(n-1)+2*T(n-1))\n",
    "p_rec5"
   ]
  },
  {
   "cell_type": "code",
   "execution_count": 13,
   "metadata": {
    "collapsed": false
   },
   "outputs": [
    {
     "data": {
      "image/png": "[encoded data removed]",
      "text/latex": [
       "$$\\frac{n}{2} T{\\left (n \\right )} = \\frac{1}{2} \\left(4 n - 4\\right) T{\\left (n - 1 \\right )} + 2 T{\\left (n - 1 \\right )}$$"
      ],
      "text/plain": [
       "n⋅T(n)   (4⋅n - 4)⋅T(n - 1)             \n",
       "────── = ────────────────── + 2⋅T(n - 1)\n",
       "  2              2                      "
      ]
     },
     "execution_count": 13,
     "metadata": {},
     "output_type": "execute_result"
    }
   ],
   "source": [
    "t_rec2 = Eq((n/2)*T(n),(4*(n-1)*T(n-1))/2+2*T(n-1))\n",
    "t_rec2"
   ]
  },
  {
   "cell_type": "code",
   "execution_count": 14,
   "metadata": {
    "collapsed": false
   },
   "outputs": [
    {
     "data": {
      "image/png": "[encoded data removed]",
      "text/latex": [
       "$$\\frac{1}{2} \\left(4 n - 4\\right) T{\\left (n - 1 \\right )} + 2 T{\\left (n - 1 \\right )} = 2 n T{\\left (n - 1 \\right )}$$"
      ],
      "text/plain": [
       "(4⋅n - 4)⋅T(n - 1)                            \n",
       "────────────────── + 2⋅T(n - 1) = 2⋅n⋅T(n - 1)\n",
       "        2                                     "
      ]
     },
     "execution_count": 14,
     "metadata": {},
     "output_type": "execute_result"
    }
   ],
   "source": [
    "t_rec2 = Eq((4*(n-1)*T(n-1))/2+2*T(n-1),2*n*T(n-1))\n",
    "t_rec2"
   ]
  },
  {
   "cell_type": "code",
   "execution_count": 15,
   "metadata": {
    "collapsed": false
   },
   "outputs": [
    {
     "data": {
      "image/png": "[encoded data removed]",
      "text/latex": [
       "$$\\left ( T{\\left (n \\right )} = 4 T{\\left (n - 1 \\right )}, \\quad T{\\left (0 \\right )} = 1\\right )$$"
      ],
      "text/plain": [
       "(T(n) = 4⋅T(n - 1), T(0) = 1)"
      ]
     },
     "execution_count": 15,
     "metadata": {},
     "output_type": "execute_result"
    }
   ],
   "source": [
    "t_rec3 = Eq(T(n),4*T(n-1))\n",
    "t_rec3,Eq(T(0),1)"
   ]
  },
  {
   "cell_type": "markdown",
   "metadata": {},
   "source": [
    "Tenendo presente che $T(0)=1$ si può concludere"
   ]
  },
  {
   "cell_type": "code",
   "execution_count": 16,
   "metadata": {
    "collapsed": false
   },
   "outputs": [
    {
     "data": {
      "image/png": "[encoded data removed]",
      "text/latex": [
       "$$T{\\left (n \\right )} = 4^{n}$$"
      ],
      "text/plain": [
       "        n\n",
       "T(n) = 4 "
      ]
     },
     "execution_count": 16,
     "metadata": {},
     "output_type": "execute_result"
    }
   ],
   "source": [
    "t_rec4 = Eq(T(n),4**n)\n",
    "Tn4 = Lambda([n],4**n)\n",
    "t_rec4"
   ]
  },
  {
   "cell_type": "markdown",
   "metadata": {},
   "source": [
    "La verifica numerica conferma quanto scritto"
   ]
  },
  {
   "cell_type": "code",
   "execution_count": 17,
   "metadata": {
    "collapsed": false
   },
   "outputs": [
    {
     "data": {
      "image/png": "[encoded data removed]",
      "text/latex": [
       "$$\\left [ \\left ( 0, \\quad 0\\right ), \\quad \\left ( 1, \\quad 0\\right ), \\quad \\left ( 2, \\quad 0\\right ), \\quad \\left ( 3, \\quad 0\\right ), \\quad \\left ( 4, \\quad 0\\right ), \\quad \\left ( 5, \\quad 0\\right ), \\quad \\left ( 6, \\quad 0\\right ), \\quad \\left ( 7, \\quad 0\\right ), \\quad \\left ( 8, \\quad 0\\right ), \\quad \\left ( 9, \\quad 0\\right ), \\quad \\left ( 10, \\quad 0\\right )\\right ]$$"
      ],
      "text/plain": [
       "[(0, 0), (1, 0), (2, 0), (3, 0), (4, 0), (5, 0), (6, 0), (7, 0), (8, 0), (9, 0\n",
       "), (10, 0)]"
      ]
     },
     "execution_count": 17,
     "metadata": {},
     "output_type": "execute_result"
    }
   ],
   "source": [
    "[(n,Tn1(n).doit() - Tn4(n).doit()) for n in range(0,11)]"
   ]
  },
  {
   "cell_type": "markdown",
   "metadata": {},
   "source": [
    "<h3>Caso 2</h3>"
   ]
  },
  {
   "cell_type": "code",
   "execution_count": 18,
   "metadata": {
    "collapsed": false
   },
   "outputs": [
    {
     "data": {
      "image/png": "[encoded data removed]",
      "text/latex": [
       "$$Q{\\left (n \\right )} = \\sum_{k=0}^{n} \\left(-1\\right)^{k} {\\binom{2 k}{k}} {\\binom{- 2 k + 2 n}{- k + n}}$$"
      ],
      "text/plain": [
       "         n                           \n",
       "        ____                         \n",
       "        ╲                            \n",
       "         ╲       k ⎛2⋅k⎞ ⎛-2⋅k + 2⋅n⎞\n",
       "          ╲  (-1) ⋅⎜   ⎟⋅⎜          ⎟\n",
       "Q(n) =    ╱        ⎝ k ⎠ ⎝  -k + n  ⎠\n",
       "         ╱                           \n",
       "        ╱                            \n",
       "        ‾‾‾‾                         \n",
       "       k = 0                         "
      ]
     },
     "execution_count": 18,
     "metadata": {},
     "output_type": "execute_result"
    }
   ],
   "source": [
    "Q = Function('Q')\n",
    "q_expr1 = Sum((-1)**k*binomial(2*k,k)*binomial(2*(n-k),n-k),(k,0,n))\n",
    "q_rec1 = Eq(Q(n), q_expr1)\n",
    "Qn1 = Lambda([n],q_expr1)\n",
    "q_rec1"
   ]
  },
  {
   "cell_type": "markdown",
   "metadata": {},
   "source": [
    "Si può verificare numericamente che $Q(2n+1)=0$, infatti:"
   ]
  },
  {
   "cell_type": "code",
   "execution_count": 19,
   "metadata": {
    "collapsed": false
   },
   "outputs": [
    {
     "data": {
      "image/png": "[encoded data removed]",
      "text/latex": [
       "$$\\left [ \\left ( 1, \\quad 0\\right ), \\quad \\left ( 3, \\quad 0\\right ), \\quad \\left ( 5, \\quad 0\\right ), \\quad \\left ( 7, \\quad 0\\right ), \\quad \\left ( 9, \\quad 0\\right ), \\quad \\left ( 11, \\quad 0\\right ), \\quad \\left ( 13, \\quad 0\\right ), \\quad \\left ( 15, \\quad 0\\right ), \\quad \\left ( 17, \\quad 0\\right ), \\quad \\left ( 19, \\quad 0\\right ), \\quad \\left ( 21, \\quad 0\\right )\\right ]$$"
      ],
      "text/plain": [
       "[(1, 0), (3, 0), (5, 0), (7, 0), (9, 0), (11, 0), (13, 0), (15, 0), (17, 0), (\n",
       "19, 0), (21, 0)]"
      ]
     },
     "execution_count": 19,
     "metadata": {},
     "output_type": "execute_result"
    }
   ],
   "source": [
    "[(2*n+1,Qn1(2*n+1).doit()) for n in range(0,11)]"
   ]
  },
  {
   "cell_type": "markdown",
   "metadata": {},
   "source": [
    "Si consideri la seguente funzione ausiliaria $H(n)$:"
   ]
  },
  {
   "cell_type": "code",
   "execution_count": 20,
   "metadata": {
    "collapsed": false
   },
   "outputs": [
    {
     "data": {
      "image/png": "[encoded data removed]",
      "text/latex": [
       "$$H{\\left (n \\right )} = \\sum_{k=0}^{n} \\left(-1\\right)^{k} \\left(- k + n\\right) {\\binom{2 k}{k}} {\\binom{- 2 k + 2 n}{- k + n}}$$"
      ],
      "text/plain": [
       "         n                                    \n",
       "        ____                                  \n",
       "        ╲                                     \n",
       "         ╲       k          ⎛2⋅k⎞ ⎛-2⋅k + 2⋅n⎞\n",
       "          ╲  (-1) ⋅(-k + n)⋅⎜   ⎟⋅⎜          ⎟\n",
       "H(n) =    ╱                 ⎝ k ⎠ ⎝  -k + n  ⎠\n",
       "         ╱                                    \n",
       "        ╱                                     \n",
       "        ‾‾‾‾                                  \n",
       "       k = 0                                  "
      ]
     },
     "execution_count": 20,
     "metadata": {},
     "output_type": "execute_result"
    }
   ],
   "source": [
    "H = Function('H')\n",
    "h_expr1 = Sum((-1)**k*(n-k)*binomial(2*k,k)*binomial(2*(n-k),n-k),(k,0,n))\n",
    "h_rec1 = Eq(H(n), h_expr1)\n",
    "Hn1 = Lambda([n],h_expr1)\n",
    "h_rec1"
   ]
  },
  {
   "cell_type": "markdown",
   "metadata": {},
   "source": [
    "Allora si ha che $H(2n)=nQ(2n)$. Verificandolo numericamente:"
   ]
  },
  {
   "cell_type": "code",
   "execution_count": 21,
   "metadata": {
    "collapsed": false
   },
   "outputs": [
    {
     "data": {
      "image/png": "[encoded data removed]",
      "text/latex": [
       "$$\\left [ \\left ( 0, \\quad 0\\right ), \\quad \\left ( 2, \\quad 0\\right ), \\quad \\left ( 4, \\quad 0\\right ), \\quad \\left ( 6, \\quad 0\\right ), \\quad \\left ( 8, \\quad 0\\right ), \\quad \\left ( 10, \\quad 0\\right ), \\quad \\left ( 12, \\quad 0\\right ), \\quad \\left ( 14, \\quad 0\\right ), \\quad \\left ( 16, \\quad 0\\right ), \\quad \\left ( 18, \\quad 0\\right ), \\quad \\left ( 20, \\quad 0\\right )\\right ]$$"
      ],
      "text/plain": [
       "[(0, 0), (2, 0), (4, 0), (6, 0), (8, 0), (10, 0), (12, 0), (14, 0), (16, 0), (\n",
       "18, 0), (20, 0)]"
      ]
     },
     "execution_count": 21,
     "metadata": {},
     "output_type": "execute_result"
    }
   ],
   "source": [
    "[(2*n, n*Qn1(2*n).doit() - Hn1(2*n).doit()) for n in range(0,11)]"
   ]
  },
  {
   "cell_type": "markdown",
   "metadata": {},
   "source": [
    "Seguendo l'approccio seguito nel caso precedente si ha che "
   ]
  },
  {
   "cell_type": "code",
   "execution_count": 22,
   "metadata": {
    "collapsed": false
   },
   "outputs": [
    {
     "data": {
      "image/png": "[encoded data removed]",
      "text/latex": [
       "$$H{\\left (n \\right )} = 4 H{\\left (n - 1 \\right )} + 2 Q{\\left (n - 1 \\right )}$$"
      ],
      "text/plain": [
       "H(n) = 4⋅H(n - 1) + 2⋅Q(n - 1)"
      ]
     },
     "execution_count": 22,
     "metadata": {},
     "output_type": "execute_result"
    }
   ],
   "source": [
    "h_rec2 = Eq(H(n),4*H(n-1)+2*Q(n-1))\n",
    "h_rec2"
   ]
  },
  {
   "cell_type": "markdown",
   "metadata": {},
   "source": [
    "Infatti si ha che"
   ]
  },
  {
   "cell_type": "code",
   "execution_count": 23,
   "metadata": {
    "collapsed": false
   },
   "outputs": [
    {
     "data": {
      "image/png": "[encoded data removed]",
      "text/latex": [
       "$$\\left [ \\left ( 0, \\quad 0\\right ), \\quad \\left ( 1, \\quad 0\\right ), \\quad \\left ( 2, \\quad 0\\right ), \\quad \\left ( 3, \\quad 0\\right ), \\quad \\left ( 4, \\quad 0\\right ), \\quad \\left ( 5, \\quad 0\\right ), \\quad \\left ( 6, \\quad 0\\right ), \\quad \\left ( 7, \\quad 0\\right ), \\quad \\left ( 8, \\quad 0\\right ), \\quad \\left ( 9, \\quad 0\\right ), \\quad \\left ( 10, \\quad 0\\right )\\right ]$$"
      ],
      "text/plain": [
       "[(0, 0), (1, 0), (2, 0), (3, 0), (4, 0), (5, 0), (6, 0), (7, 0), (8, 0), (9, 0\n",
       "), (10, 0)]"
      ]
     },
     "execution_count": 23,
     "metadata": {},
     "output_type": "execute_result"
    }
   ],
   "source": [
    "[(n, Hn1(n).doit() - 4*Hn1(n-1).doit()-2*Qn1(n-1).doit()) for n in range(0,11)]"
   ]
  },
  {
   "cell_type": "markdown",
   "metadata": {},
   "source": [
    "Quindi, riscrivendo la relazione precedente per $2n$ e $2n-1$si ha che "
   ]
  },
  {
   "cell_type": "code",
   "execution_count": 24,
   "metadata": {
    "collapsed": false
   },
   "outputs": [
    {
     "data": {
      "image/png": "[encoded data removed]",
      "text/latex": [
       "$$H{\\left (2 n \\right )} = 4 H{\\left (2 n - 1 \\right )} + 2 Q{\\left (2 n - 1 \\right )} = 4 H{\\left (2 n - 1 \\right )}$$"
      ],
      "text/plain": [
       "H(2⋅n) = 4⋅H(2⋅n - 1) + 2⋅Q(2⋅n - 1) = 4⋅H(2⋅n - 1)"
      ]
     },
     "execution_count": 24,
     "metadata": {},
     "output_type": "execute_result"
    }
   ],
   "source": [
    "h_rec3 = Eq(H(2*n),4*H(2*n-1)+2*Q(2*n-1))\n",
    "h_rec4 = Eq(h_rec3,4*H(2*n-1))\n",
    "h_rec4"
   ]
  },
  {
   "cell_type": "code",
   "execution_count": 25,
   "metadata": {
    "collapsed": false
   },
   "outputs": [
    {
     "data": {
      "image/png": "[encoded data removed]",
      "text/latex": [
       "$$H{\\left (2 n - 1 \\right )} = 4 H{\\left (2 n - 2 \\right )} + 2 Q{\\left (2 n - 2 \\right )}$$"
      ],
      "text/plain": [
       "H(2⋅n - 1) = 4⋅H(2⋅n - 2) + 2⋅Q(2⋅n - 2)"
      ]
     },
     "execution_count": 25,
     "metadata": {},
     "output_type": "execute_result"
    }
   ],
   "source": [
    "h_rec5 = Eq(H(2*n-1),4*H(2*n-2)+2*Q(2*n-2))\n",
    "h_rec5"
   ]
  },
  {
   "cell_type": "markdown",
   "metadata": {},
   "source": [
    "E quindi "
   ]
  },
  {
   "cell_type": "code",
   "execution_count": 26,
   "metadata": {
    "collapsed": false
   },
   "outputs": [
    {
     "data": {
      "image/png": "[encoded data removed]",
      "text/latex": [
       "$$H{\\left (2 n \\right )} = 16 H{\\left (2 n - 2 \\right )} + 8 Q{\\left (2 n - 2 \\right )}$$"
      ],
      "text/plain": [
       "H(2⋅n) = 16⋅H(2⋅n - 2) + 8⋅Q(2⋅n - 2)"
      ]
     },
     "execution_count": 26,
     "metadata": {},
     "output_type": "execute_result"
    }
   ],
   "source": [
    "h_rec6 = Eq(H(2*n),16*H(2*n-2)+8*Q(2*n-2))\n",
    "h_rec6"
   ]
  },
  {
   "cell_type": "markdown",
   "metadata": {},
   "source": [
    "e tenendo conto che $H(2n)=nQ(2n)$"
   ]
  },
  {
   "cell_type": "code",
   "execution_count": 27,
   "metadata": {
    "collapsed": false
   },
   "outputs": [
    {
     "data": {
      "image/png": "[encoded data removed]",
      "text/latex": [
       "$$n Q{\\left (2 n \\right )} = \\left(16 n - 16\\right) Q{\\left (2 n - 2 \\right )} + 8 Q{\\left (2 n - 2 \\right )} = \\left(16 n - 8\\right) Q{\\left (2 n - 2 \\right )}$$"
      ],
      "text/plain": [
       "n⋅Q(2⋅n) = (16⋅n - 16)⋅Q(2⋅n - 2) + 8⋅Q(2⋅n - 2) = (16⋅n - 8)⋅Q(2⋅n - 2)"
      ]
     },
     "execution_count": 27,
     "metadata": {},
     "output_type": "execute_result"
    }
   ],
   "source": [
    "q_rec2 = Eq(n*Q(2*n),16*(n-1)*Q(2*n-2)+8*Q(2*n-2))\n",
    "q_rec3 = Eq(q_rec2,8*(2*n-1)*Q(2*n-2))\n",
    "q_rec3"
   ]
  },
  {
   "cell_type": "markdown",
   "metadata": {},
   "source": [
    "Da cui "
   ]
  },
  {
   "cell_type": "code",
   "execution_count": 28,
   "metadata": {
    "collapsed": false
   },
   "outputs": [
    {
     "data": {
      "image/png": "[encoded data removed]",
      "text/latex": [
       "$$Q{\\left (2 n \\right )} = \\frac{1}{n} \\left(16 n - 8\\right) Q{\\left (2 n - 2 \\right )}$$"
      ],
      "text/plain": [
       "         (16⋅n - 8)⋅Q(2⋅n - 2)\n",
       "Q(2⋅n) = ─────────────────────\n",
       "                   n          "
      ]
     },
     "execution_count": 28,
     "metadata": {},
     "output_type": "execute_result"
    }
   ],
   "source": [
    "q_rec4 = Eq(Q(2*n),(8*(2*n-1)*Q(2*n-2))/n)\n",
    "q_rec4"
   ]
  },
  {
   "cell_type": "markdown",
   "metadata": {},
   "source": [
    "prima di scrivere $Q(2n)$ in forma esplicita è possibile verificare numericamente la precedente relazione"
   ]
  },
  {
   "cell_type": "code",
   "execution_count": 29,
   "metadata": {
    "collapsed": false
   },
   "outputs": [
    {
     "data": {
      "image/png": "[encoded data removed]",
      "text/latex": [
       "$$\\left [ \\left ( 2, \\quad 0\\right ), \\quad \\left ( 4, \\quad 0\\right ), \\quad \\left ( 6, \\quad 0\\right ), \\quad \\left ( 8, \\quad 0\\right ), \\quad \\left ( 10, \\quad 0\\right ), \\quad \\left ( 12, \\quad 0\\right ), \\quad \\left ( 14, \\quad 7.45058059692383 \\cdot 10^{-9}\\right ), \\quad \\left ( 16, \\quad 0\\right ), \\quad \\left ( 18, \\quad 0\\right ), \\quad \\left ( 20, \\quad 0\\right )\\right ]$$"
      ],
      "text/plain": [
       "[(2, 0), (4, 0), (6, 0), (8, 0), (10, 0), (12, 0), (14, 7.45058059692383e-9), \n",
       "(16, 0), (18, 0), (20, 0)]"
      ]
     },
     "execution_count": 29,
     "metadata": {},
     "output_type": "execute_result"
    }
   ],
   "source": [
    "[(2*n, Qn1(2*n).doit() - (1/n)*(16*n-8)*Qn1(2*n-2).doit()) for n in range(1,11)]"
   ]
  },
  {
   "cell_type": "markdown",
   "metadata": {},
   "source": [
    "Quindi, considerando che $Q(0)=1$, si ha che "
   ]
  },
  {
   "cell_type": "code",
   "execution_count": 30,
   "metadata": {
    "collapsed": false
   },
   "outputs": [
    {
     "data": {
      "image/png": "[encoded data removed]",
      "text/latex": [
       "$$Q{\\left (2 n \\right )} = \\frac{8^{n}}{n!} \\left(2 n - 1\\right)!!$$"
      ],
      "text/plain": [
       "          n            \n",
       "         8 ⋅(2⋅n - 1)!!\n",
       "Q(2⋅n) = ──────────────\n",
       "               n!      "
      ]
     },
     "execution_count": 30,
     "metadata": {},
     "output_type": "execute_result"
    }
   ],
   "source": [
    "q_expr2 = ((8**n)*factorial2(2*n-1))/factorial(n)\n",
    "q_rec5 = Eq(Q(2*n), q_expr2)\n",
    "Qn2 = Lambda([n],q_expr2)\n",
    "q_rec5"
   ]
  },
  {
   "cell_type": "markdown",
   "metadata": {},
   "source": [
    "Quindi, confrontando numericamente questa espressione per $Q(2n)$ con quella di partenza si ha"
   ]
  },
  {
   "cell_type": "code",
   "execution_count": 31,
   "metadata": {
    "collapsed": false
   },
   "outputs": [
    {
     "data": {
      "image/png": "[encoded data removed]",
      "text/latex": [
       "$$\\left [ \\left ( 2, \\quad 0\\right ), \\quad \\left ( 4, \\quad 0\\right ), \\quad \\left ( 6, \\quad 0\\right ), \\quad \\left ( 8, \\quad 0\\right ), \\quad \\left ( 10, \\quad 0\\right ), \\quad \\left ( 12, \\quad 0\\right ), \\quad \\left ( 14, \\quad 0\\right ), \\quad \\left ( 16, \\quad 0\\right ), \\quad \\left ( 18, \\quad 0\\right ), \\quad \\left ( 20, \\quad 0\\right )\\right ]$$"
      ],
      "text/plain": [
       "[(2, 0), (4, 0), (6, 0), (8, 0), (10, 0), (12, 0), (14, 0), (16, 0), (18, 0), \n",
       "(20, 0)]"
      ]
     },
     "execution_count": 31,
     "metadata": {},
     "output_type": "execute_result"
    }
   ],
   "source": [
    "[(2*n, Qn1(2*n).doit() - Qn2(n).doit()) for n in range(1,11)]"
   ]
  },
  {
   "cell_type": "markdown",
   "metadata": {},
   "source": [
    "Poiché $\\frac{8^n}{n!}(2n-1)=\\frac{8^n}{n!}(2n-1)(\\frac{2^n n!}{2^n n!})=\\frac{4^n(2n-1)!!(2n)!!}{(n!)^2} = \\frac{4^nn!}{(n!)^2}=4^n\\binom{2n}{n}$"
   ]
  },
  {
   "cell_type": "code",
   "execution_count": 32,
   "metadata": {
    "collapsed": false
   },
   "outputs": [
    {
     "data": {
      "image/png": "[encoded data removed]",
      "text/latex": [
       "$$Q{\\left (2 n \\right )} = 4^{n} {\\binom{2 n}{n}}$$"
      ],
      "text/plain": [
       "          n ⎛2⋅n⎞\n",
       "Q(2⋅n) = 4 ⋅⎜   ⎟\n",
       "            ⎝ n ⎠"
      ]
     },
     "execution_count": 32,
     "metadata": {},
     "output_type": "execute_result"
    }
   ],
   "source": [
    "q_expr3 = (4**n)*binomial(2*n,n)\n",
    "q_rec6 = Eq(Q(2*n), q_expr3)\n",
    "Qn3 = Lambda([n],q_expr3)\n",
    "q_rec6"
   ]
  },
  {
   "cell_type": "markdown",
   "metadata": {},
   "source": [
    "Eseguendo una nuova verifica numerica si ha che"
   ]
  },
  {
   "cell_type": "code",
   "execution_count": 33,
   "metadata": {
    "collapsed": false
   },
   "outputs": [
    {
     "data": {
      "image/png": "[encoded data removed]",
      "text/latex": [
       "$$\\left [ \\left ( 2, \\quad 0\\right ), \\quad \\left ( 4, \\quad 0\\right ), \\quad \\left ( 6, \\quad 0\\right ), \\quad \\left ( 8, \\quad 0\\right ), \\quad \\left ( 10, \\quad 0\\right ), \\quad \\left ( 12, \\quad 0\\right ), \\quad \\left ( 14, \\quad 0\\right ), \\quad \\left ( 16, \\quad 0\\right ), \\quad \\left ( 18, \\quad 0\\right ), \\quad \\left ( 20, \\quad 0\\right )\\right ]$$"
      ],
      "text/plain": [
       "[(2, 0), (4, 0), (6, 0), (8, 0), (10, 0), (12, 0), (14, 0), (16, 0), (18, 0), \n",
       "(20, 0)]"
      ]
     },
     "execution_count": 33,
     "metadata": {},
     "output_type": "execute_result"
    }
   ],
   "source": [
    "[(2*n, Qn1(2*n).doit() - Qn3(n).doit()) for n in range(1,11)]"
   ]
  },
  {
   "cell_type": "markdown",
   "metadata": {},
   "source": [
    "<h3>Caso 3</h3>"
   ]
  },
  {
   "cell_type": "markdown",
   "metadata": {},
   "source": [
    "Sia $$S(n,t)=\\sum_{\\substack{i_1+i_2+\\dots+i_t=n \\\\ i_1 \\geq 0,i_2 \\geq 0,\\dots,i_t \\geq 0}}^{n}\\binom{2i_1}{i_1}\\binom{2i_2}{i_2} \\dots \\binom{2i_t}{i_t}$$ allora per poter calcolare i valori numerici che assume $S(n,t)$ è necessario determinare le composizioni di $n$ di lunghezza $\\leq t$. A questo scopo è stato implementato il seguente metodo"
   ]
  },
  {
   "cell_type": "code",
   "execution_count": 37,
   "metadata": {
    "collapsed": true
   },
   "outputs": [],
   "source": [
    "import itertools\n",
    "\n",
    "def compositions(n, k):\n",
    "    for c in itertools.combinations(range(n+k-1), k-1):\n",
    "        yield [b-a-1 for a, b in zip((-1,)+c, c+(n+k-1,))]"
   ]
  },
  {
   "cell_type": "markdown",
   "metadata": {},
   "source": [
    "Questo metodo definisce un generatore in cui ogni elemento è una lista di di $t$ elementi che rappresenta una delle possibili combinazioni di indici $i_1,i_2,\\dots,i_t$ su cui itera la sommatoria che definisce $S(n,t)$. Questa procedura verrà utilizzata all'interno del seguente metodo per calcolare il valore numerico di $S(n,t)$."
   ]
  },
  {
   "cell_type": "code",
   "execution_count": 43,
   "metadata": {
    "collapsed": true
   },
   "outputs": [],
   "source": [
    "def computeS(n,t):\n",
    "    S = 0\n",
    "    comp = compositions(n,t)\n",
    "    for c in comp:\n",
    "        binomials = [((factorial(2*c[i]))/((factorial(c[i]))*(factorial(c[i])))) for i in range(0,len(c))]\n",
    "        product = np.prod(binomials)\n",
    "        S = S + product\n",
    "    return S\n",
    "        "
   ]
  },
  {
   "cell_type": "markdown",
   "metadata": {},
   "source": [
    "A questo punto è possibile utilizzare il metodo sviluppato in python per effettuare le valutazioni numeriche con sympy definendo una funzione lambda"
   ]
  },
  {
   "cell_type": "code",
   "execution_count": 44,
   "metadata": {
    "collapsed": false
   },
   "outputs": [],
   "source": [
    "S = implemented_function(Function('S'), computeS)\n",
    "Sn1 = lambdify((n,t),S(n,t))"
   ]
  },
  {
   "cell_type": "markdown",
   "metadata": {},
   "source": [
    "Seguendo l'approccio utilizzato nei due casi precedenti viene definita una funzione ausiliaria, chiamata $P(n,t)$\n",
    "$$P(n,t) = \\sum_{\\substack{i_1+i_2+\\dots+i_t=n \\\\ i_1 \\geq 0,i_2 \\geq 0,\\dots,i_t \\geq 0}}^{n}i_1\\binom{2i_1}{i_1}\\binom{2i_2}{i_2} \\dots \\binom{2i_t}{i_t}$$"
   ]
  },
  {
   "cell_type": "markdown",
   "metadata": {},
   "source": [
    "che è definibile equivalentemente come \n",
    "$$P(n,t) = \\sum_{\\substack{i_1+i_2+\\dots+i_t=n \\\\ i_k \\geq 0,i_2 \\geq 0,\\dots,i_t \\geq 0}}^{n}i_k\\binom{2i_1}{i_1}\\binom{2i_2}{i_2} \\dots \\binom{2i_t}{i_t}$$\n",
    "con $k \\in \\{1,2,\\dots,t\\}.$\n"
   ]
  },
  {
   "cell_type": "markdown",
   "metadata": {},
   "source": [
    "Per poter calcolare il valore di $P(n,t)$ viene utilizzato un approccio analogo \n",
    "a quello utilizzato per $S(n,t)$ definendo il metodo apposito"
   ]
  },
  {
   "cell_type": "code",
   "execution_count": 52,
   "metadata": {
    "collapsed": true
   },
   "outputs": [],
   "source": [
    "def computeP(n,t):\n",
    "    S = 0\n",
    "    comp = compositions(n,t)\n",
    "    for c in comp:\n",
    "        binomials = [((factorial(2*c[i]))/((factorial(c[i]))*(factorial(c[i])))) for i in range(0,len(c))]\n",
    "        product = np.prod(binomials)*c[0]\n",
    "        S = S + product\n",
    "    return S"
   ]
  },
  {
   "cell_type": "code",
   "execution_count": 55,
   "metadata": {
    "collapsed": false
   },
   "outputs": [],
   "source": [
    "P = implemented_function(Function('S'), computeP)\n",
    "Pn1 = lambdify((n,t),P(n,t))"
   ]
  },
  {
   "cell_type": "markdown",
   "metadata": {},
   "source": [
    "Quindi vale $P(n,t) = \\frac{nS(n,t)}{t}$"
   ]
  },
  {
   "cell_type": "markdown",
   "metadata": {},
   "source": [
    "che si può verificare numericamente "
   ]
  },
  {
   "cell_type": "code",
   "execution_count": 72,
   "metadata": {
    "collapsed": false
   },
   "outputs": [
    {
     "data": {
      "image/png": "[encoded data removed]",
      "text/latex": [
       "$$\\left[\\begin{matrix}1 & 0 & 0 & 0 & 0 & 0 & 0\\\\0 & 0 & 0 & 0 & 0 & 0 & 0\\\\0 & 0 & 0 & 0 & 0 & 0 & 0\\\\0 & 0 & 0 & 0 & 0 & 0 & 0\\\\0 & 0 & 0 & 0 & 0 & 0 & 0\\\\0 & 0 & 0 & 0 & 0 & 0 & 0\\\\0 & 0 & 0 & 0 & 0 & 0 & 0\\end{matrix}\\right]$$"
      ],
      "text/plain": [
       "⎡1  0  0  0  0  0  0⎤\n",
       "⎢                   ⎥\n",
       "⎢0  0  0  0  0  0  0⎥\n",
       "⎢                   ⎥\n",
       "⎢0  0  0  0  0  0  0⎥\n",
       "⎢                   ⎥\n",
       "⎢0  0  0  0  0  0  0⎥\n",
       "⎢                   ⎥\n",
       "⎢0  0  0  0  0  0  0⎥\n",
       "⎢                   ⎥\n",
       "⎢0  0  0  0  0  0  0⎥\n",
       "⎢                   ⎥\n",
       "⎣0  0  0  0  0  0  0⎦"
      ]
     },
     "execution_count": 72,
     "metadata": {},
     "output_type": "execute_result"
    }
   ],
   "source": [
    "matrix = eye(7)\n",
    "for i in range(1,7): \n",
    "    for j in range(1,7):\n",
    "        matrix[i,j] = ((i*Sn1(i,j))/j)-Pn1(i,j)\n",
    "matrix"
   ]
  },
  {
   "cell_type": "markdown",
   "metadata": {},
   "source": [
    "inoltre si può verificare numericamente che $P(n,t)=4P(n-1,t)+2S(n-1,t)$ "
   ]
  },
  {
   "cell_type": "code",
   "execution_count": 75,
   "metadata": {
    "collapsed": false
   },
   "outputs": [
    {
     "data": {
      "image/png": "[encoded data removed]",
      "text/latex": [
       "$$\\left[\\begin{matrix}1 & 0 & 0 & 0 & 0 & 0 & 0\\\\0 & 0 & 0 & 0 & 0 & 0 & 0\\\\0 & 0 & 0 & 0 & 0 & 0 & 0\\\\0 & 0 & 0 & 0 & 0 & 0 & 0\\\\0 & 0 & 0 & 0 & 0 & 0 & 0\\\\0 & 0 & 0 & 0 & 0 & 0 & 0\\\\0 & 0 & 0 & 0 & 0 & 0 & 0\\end{matrix}\\right]$$"
      ],
      "text/plain": [
       "⎡1  0  0  0  0  0  0⎤\n",
       "⎢                   ⎥\n",
       "⎢0  0  0  0  0  0  0⎥\n",
       "⎢                   ⎥\n",
       "⎢0  0  0  0  0  0  0⎥\n",
       "⎢                   ⎥\n",
       "⎢0  0  0  0  0  0  0⎥\n",
       "⎢                   ⎥\n",
       "⎢0  0  0  0  0  0  0⎥\n",
       "⎢                   ⎥\n",
       "⎢0  0  0  0  0  0  0⎥\n",
       "⎢                   ⎥\n",
       "⎣0  0  0  0  0  0  0⎦"
      ]
     },
     "execution_count": 75,
     "metadata": {},
     "output_type": "execute_result"
    }
   ],
   "source": [
    "matrix = eye(7)\n",
    "for i in range(1,7): \n",
    "    for j in range(1,7):\n",
    "        matrix[i,j] = Pn1(i,j) - 4*Pn1(i-1,j) - 2*Sn1(i-1,j)\n",
    "matrix"
   ]
  },
  {
   "cell_type": "markdown",
   "metadata": {},
   "source": [
    "tenendo conto che $\\frac{nS(n,t)}{t} = 4\\frac{(n-1)S(n-1,t)}{t}+ 2S(n-1,t)=\\frac{2(2(n-1)+t)S(n-1,t)}{t}$"
   ]
  },
  {
   "cell_type": "markdown",
   "metadata": {},
   "source": [
    "e quindi $S(n,t)=\\frac{2(2(n-1)+t)}{n}S(n-1,t)$"
   ]
  },
  {
   "cell_type": "markdown",
   "metadata": {},
   "source": [
    "Tenendo conto che si ha $S(0,1)=1$ allora \n",
    "$$S(n,t) = 2^n\\frac{(2n-2+t)(2n-4+t) \\dots (2+t)t}{n!}$$"
   ]
  },
  {
   "cell_type": "markdown",
   "metadata": {},
   "source": [
    "Quindi, se $t=2t_1$ si ha che \n",
    "$$\n",
    "S(n,2t_1) = 4^n \\frac{(n-1+t_1)(n-2+t_1) \\dots (1+t_1)t_1}{n!} = 4^n \\frac{(n-1+t_1)!}{n!(t_1-1)!}\n",
    "$$"
   ]
  },
  {
   "cell_type": "markdown",
   "metadata": {},
   "source": [
    "E quindi $$S(n,2t_1)= 4^n\\binom{n+t_1-1}{n}$$"
   ]
  },
  {
   "cell_type": "markdown",
   "metadata": {},
   "source": [
    "e quindi se $t$ è pari $$S(n,t) = 4^n\\binom{n+\\frac{t}{2}-1}{n}$$"
   ]
  },
  {
   "cell_type": "code",
   "execution_count": 80,
   "metadata": {
    "collapsed": false
   },
   "outputs": [
    {
     "data": {
      "image/png": "[encoded data removed]",
      "text/latex": [
       "$$4^{n} {\\binom{n + \\frac{t}{2} - 1}{n}}$$"
      ],
      "text/plain": [
       "   ⎛    t    ⎞\n",
       " n ⎜n + ─ - 1⎟\n",
       "4 ⋅⎜    2    ⎟\n",
       "   ⎜         ⎟\n",
       "   ⎝    n    ⎠"
      ]
     },
     "execution_count": 80,
     "metadata": {},
     "output_type": "execute_result"
    }
   ],
   "source": [
    "s_expr1 = 4**n*binomial(n+t/2-1,n)\n",
    "Sn2 = Lambda([n,t],s_expr1)\n",
    "Sn2(n,t)"
   ]
  },
  {
   "cell_type": "code",
   "execution_count": 85,
   "metadata": {
    "collapsed": false
   },
   "outputs": [
    {
     "data": {
      "image/png": "[encoded data removed]",
      "text/latex": [
       "$$\\left[\\begin{matrix}1 & 0 & 0 & 0 & 0 & 0 & 0 & 0\\\\0 & 1 & 0 & 0 & 0 & 0 & 0 & 0\\\\0 & 0 & 0 & 0 & 0 & 0 & 0 & 0\\\\0 & 0 & 0 & 1 & 0 & 0 & 0 & 0\\\\0 & 0 & 0 & 0 & 0 & 0 & 0 & 0\\\\0 & 0 & 0 & 0 & 0 & 1 & 0 & 0\\\\0 & 0 & 0 & 0 & 0 & 0 & 0 & 0\\\\0 & 0 & 0 & 0 & 0 & 0 & 0 & 1\\end{matrix}\\right]$$"
      ],
      "text/plain": [
       "⎡1  0  0  0  0  0  0  0⎤\n",
       "⎢                      ⎥\n",
       "⎢0  1  0  0  0  0  0  0⎥\n",
       "⎢                      ⎥\n",
       "⎢0  0  0  0  0  0  0  0⎥\n",
       "⎢                      ⎥\n",
       "⎢0  0  0  1  0  0  0  0⎥\n",
       "⎢                      ⎥\n",
       "⎢0  0  0  0  0  0  0  0⎥\n",
       "⎢                      ⎥\n",
       "⎢0  0  0  0  0  1  0  0⎥\n",
       "⎢                      ⎥\n",
       "⎢0  0  0  0  0  0  0  0⎥\n",
       "⎢                      ⎥\n",
       "⎣0  0  0  0  0  0  0  1⎦"
      ]
     },
     "execution_count": 85,
     "metadata": {},
     "output_type": "execute_result"
    }
   ],
   "source": [
    "matrix = eye(8)\n",
    "for i in range(1,8): \n",
    "    for j in range(2,8,2):\n",
    "        matrix[i,j] = Sn1(i,j) - Sn2(i,j)\n",
    "matrix"
   ]
  },
  {
   "cell_type": "markdown",
   "metadata": {},
   "source": [
    "Nel caso in cui $t=2t_1+1$, ovvero se t è dispari si ha che \n",
    "$$ \n",
    "S(n,2t_1+1)=\\binom{2n+2t_1}{2n} \\binom{2n}{n} \\frac{1}{\\binom{n+t_1}{n}}\n",
    "$$"
   ]
  },
  {
   "cell_type": "markdown",
   "metadata": {},
   "source": [
    "che si può verificare numericamente "
   ]
  },
  {
   "cell_type": "code",
   "execution_count": 87,
   "metadata": {
    "collapsed": false
   },
   "outputs": [
    {
     "data": {
      "image/png": "[encoded data removed]",
      "text/latex": [
       "$$\\frac{{\\binom{2 n}{n}}}{{\\binom{n + \\frac{t}{2}}{n}}} {\\binom{2 n + t}{2 n}}$$"
      ],
      "text/plain": [
       "⎛2⋅n⎞ ⎛2⋅n + t⎞\n",
       "⎜   ⎟⋅⎜       ⎟\n",
       "⎝ n ⎠ ⎝  2⋅n  ⎠\n",
       "───────────────\n",
       "    ⎛    t⎞    \n",
       "    ⎜n + ─⎟    \n",
       "    ⎜    2⎟    \n",
       "    ⎜     ⎟    \n",
       "    ⎝  n  ⎠    "
      ]
     },
     "execution_count": 87,
     "metadata": {},
     "output_type": "execute_result"
    }
   ],
   "source": [
    "s_expr2 = binomial(2*n+t,2*n)*binomial(2*n,n)*(1/binomial(n+(t/2),n))\n",
    "Sn3 = Lambda([n,t],s_expr2)\n",
    "Sn3(n,t)"
   ]
  },
  {
   "cell_type": "code",
   "execution_count": 89,
   "metadata": {
    "collapsed": false
   },
   "outputs": [
    {
     "data": {
      "image/png": "[encoded data removed]",
      "text/latex": [
       "$$\\left[\\begin{matrix}1 & 0 & 0 & 0 & 0 & 0 & 0 & 0\\\\0 & -2 & 0 & -2 & 0 & -2 & 0 & 0\\\\0 & -10 & 1 & -18 & 0 & -26 & 0 & 0\\\\0 & -44 & 0 & -116 & 0 & -220 & 0 & 0\\\\0 & -186 & 0 & -650 & 1 & -1530 & 0 & 0\\\\0 & -772 & 0 & -3372 & 0 & -9492 & 0 & 0\\\\0 & -3172 & 0 & -16660 & 0 & -54628 & 1 & 0\\\\0 & 0 & 0 & 0 & 0 & 0 & 0 & 1\\end{matrix}\\right]$$"
      ],
      "text/plain": [
       "⎡1    0    0    0     0    0     0  0⎤\n",
       "⎢                                    ⎥\n",
       "⎢0   -2    0    -2    0    -2    0  0⎥\n",
       "⎢                                    ⎥\n",
       "⎢0   -10   1   -18    0   -26    0  0⎥\n",
       "⎢                                    ⎥\n",
       "⎢0   -44   0   -116   0   -220   0  0⎥\n",
       "⎢                                    ⎥\n",
       "⎢0  -186   0   -650   1  -1530   0  0⎥\n",
       "⎢                                    ⎥\n",
       "⎢0  -772   0  -3372   0  -9492   0  0⎥\n",
       "⎢                                    ⎥\n",
       "⎢0  -3172  0  -16660  0  -54628  1  0⎥\n",
       "⎢                                    ⎥\n",
       "⎣0    0    0    0     0    0     0  1⎦"
      ]
     },
     "execution_count": 89,
     "metadata": {},
     "output_type": "execute_result"
    }
   ],
   "source": [
    "matrix = eye(8)\n",
    "for i in range(1,7): \n",
    "    for j in range(1,7,2):\n",
    "        matrix[i,j] = Sn1(i,j) - Sn3(i,j)\n",
    "matrix"
   ]
  },
  {
   "cell_type": "code",
   "execution_count": null,
   "metadata": {
    "collapsed": true
   },
   "outputs": [],
   "source": []
  }
 ],
 "metadata": {
  "anaconda-cloud": {},
  "kernelspec": {
   "display_name": "Python [conda root]",
   "language": "python",
   "name": "conda-root-py"
  },
  "language_info": {
   "codemirror_mode": {
    "name": "ipython",
    "version": 3
   },
   "file_extension": ".py",
   "mimetype": "text/x-python",
   "name": "python",
   "nbconvert_exporter": "python",
   "pygments_lexer": "ipython3",
   "version": "3.5.2"
  }
 },
 "nbformat": 4,
 "nbformat_minor": 1
}
